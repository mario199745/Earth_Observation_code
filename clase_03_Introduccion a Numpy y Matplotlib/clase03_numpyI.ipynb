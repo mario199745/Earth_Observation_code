{
  "nbformat": 4,
  "nbformat_minor": 0,
  "metadata": {
    "colab": {
      "provenance": []
    },
    "kernelspec": {
      "name": "python3",
      "display_name": "Python 3"
    },
    "language_info": {
      "name": "python"
    }
  },
  "cells": [
    {
      "cell_type": "markdown",
      "source": [
        "### **Introducción a NumPy**\n",
        "\n",
        "NumPy es una biblioteca de Python que se utiliza para realizar cálculos matemáticos en matrices y arreglos multidimensionales. Es una herramienta esencial para el análisis de datos y el aprendizaje automático en Python. NumPy también es muy rápido y eficiente, lo que lo hace ideal para trabajar con grandes conjuntos de datos.\n",
        "\n"
      ],
      "metadata": {
        "id": "-qqgLUxyUBH0"
      }
    },
    {
      "cell_type": "markdown",
      "source": [
        "### **Import NumPy module/package**\n",
        "\n",
        "Ejecuta la siguiente celda de código para importar el módulo NumPy:\n"
      ],
      "metadata": {
        "id": "dhdctdQNXT4E"
      }
    },
    {
      "cell_type": "code",
      "execution_count": null,
      "metadata": {
        "id": "uWUL_w4UUAop"
      },
      "outputs": [],
      "source": [
        "import numpy as np"
      ]
    },
    {
      "cell_type": "markdown",
      "source": [
        "## Creation of arrays\n",
        "\n",
        "Existen varias formas de crear arreglos NumPy. Una forma es proporcionar una lista (anidada) como parámetro para el constructor array:"
      ],
      "metadata": {
        "id": "wWiOhdO3XjHL"
      }
    },
    {
      "cell_type": "code",
      "source": [
        "np.array(10).shape"
      ],
      "metadata": {
        "colab": {
          "base_uri": "https://localhost:8080/"
        },
        "id": "Jpm2Kt0hXxHa",
        "outputId": "6aceb133-893b-4e28-9866-8361931b4e31"
      },
      "execution_count": null,
      "outputs": [
        {
          "output_type": "execute_result",
          "data": {
            "text/plain": [
              "()"
            ]
          },
          "metadata": {},
          "execution_count": 16
        }
      ]
    },
    {
      "cell_type": "markdown",
      "source": [
        "Ten en cuenta que al omitir los corchetes de la expresión anterior, es decir, al llamar a `np.array(1,2,3)`, se producirá un error. Se puede dar un arreglo bidimensional enumerando las filas de los\n",
        "arrays:\n"
      ],
      "metadata": {
        "id": "wjj7hbacYWcP"
      }
    },
    {
      "cell_type": "code",
      "source": [
        "np.array([[1,2,3], [4,5,6]]).shape"
      ],
      "metadata": {
        "colab": {
          "base_uri": "https://localhost:8080/"
        },
        "id": "D6UE2bwalhQL",
        "outputId": "4ef88620-ab85-4f35-ed03-f666ebc91d4b"
      },
      "execution_count": null,
      "outputs": [
        {
          "output_type": "execute_result",
          "data": {
            "text/plain": [
              "(2, 3)"
            ]
          },
          "metadata": {},
          "execution_count": 17
        }
      ]
    },
    {
      "cell_type": "code",
      "source": [],
      "metadata": {
        "id": "Gy1UUoebXyc9"
      },
      "execution_count": null,
      "outputs": []
    },
    {
      "cell_type": "markdown",
      "source": [
        "De manera similar, la matriz tridimensional se puede describir como una lista de listas de listas:"
      ],
      "metadata": {
        "id": "4g6PtHRFat-v"
      }
    },
    {
      "cell_type": "code",
      "source": [
        "np.array([[[1,2], [3,4]], [[5,6], [7,8]]])"
      ],
      "metadata": {
        "colab": {
          "base_uri": "https://localhost:8080/"
        },
        "id": "3bKHbIIvl_fb",
        "outputId": "a98b7427-35d5-43fb-f75a-b604dc4a9f25"
      },
      "execution_count": null,
      "outputs": [
        {
          "output_type": "execute_result",
          "data": {
            "text/plain": [
              "(2, 2, 2)"
            ]
          },
          "metadata": {},
          "execution_count": 19
        }
      ]
    },
    {
      "cell_type": "code",
      "source": [
        "np.array([[[1,2], [3,4]], [[5,6], [7,8]]])"
      ],
      "metadata": {
        "colab": {
          "base_uri": "https://localhost:8080/"
        },
        "id": "1qmiA8o-ao09",
        "outputId": "7d7e5d7a-a7bf-4bb4-8633-cdd8c3597335"
      },
      "execution_count": null,
      "outputs": [
        {
          "output_type": "execute_result",
          "data": {
            "text/plain": [
              "array([[[1, 2],\n",
              "        [3, 4]],\n",
              "\n",
              "       [[5, 6],\n",
              "        [7, 8]]])"
            ]
          },
          "metadata": {},
          "execution_count": 20
        }
      ]
    },
    {
      "cell_type": "markdown",
      "source": [
        "Hay algunas funciones auxiliares para crear tipos comunes de arreglos:"
      ],
      "metadata": {
        "id": "9enUnDwfa0yR"
      }
    },
    {
      "cell_type": "code",
      "source": [
        "np.zeros((3,4))"
      ],
      "metadata": {
        "colab": {
          "base_uri": "https://localhost:8080/"
        },
        "id": "XPtEkvT9awP8",
        "outputId": "73d0cfbd-0a1b-4696-e152-6d87de27789e"
      },
      "execution_count": null,
      "outputs": [
        {
          "output_type": "execute_result",
          "data": {
            "text/plain": [
              "array([[0., 0., 0., 0.],\n",
              "       [0., 0., 0., 0.],\n",
              "       [0., 0., 0., 0.]])"
            ]
          },
          "metadata": {},
          "execution_count": 7
        }
      ]
    },
    {
      "cell_type": "code",
      "source": [
        "np.zeros((3,4), dtype=int)"
      ],
      "metadata": {
        "colab": {
          "base_uri": "https://localhost:8080/"
        },
        "id": "Ck3KJR65a2pC",
        "outputId": "3aff982a-d0e3-42ae-aae4-27dc9631d3b1"
      },
      "execution_count": null,
      "outputs": [
        {
          "output_type": "execute_result",
          "data": {
            "text/plain": [
              "array([[0, 0, 0, 0],\n",
              "       [0, 0, 0, 0],\n",
              "       [0, 0, 0, 0]])"
            ]
          },
          "metadata": {},
          "execution_count": 8
        }
      ]
    },
    {
      "cell_type": "markdown",
      "source": [
        "De manera similar, `ones` inicializa todos los elementos a uno, `full` inicializa todos los elementos a un valor específico y `empty` deja los elementos sin inicializar:"
      ],
      "metadata": {
        "id": "AYT9PcxUa7xJ"
      }
    },
    {
      "cell_type": "code",
      "source": [
        "np.ones((2,3))"
      ],
      "metadata": {
        "colab": {
          "base_uri": "https://localhost:8080/"
        },
        "id": "knnKFc8wa34M",
        "outputId": "881e26a7-f29a-402d-d839-c2cdca36b6c2"
      },
      "execution_count": null,
      "outputs": [
        {
          "output_type": "execute_result",
          "data": {
            "text/plain": [
              "array([[1., 1., 1.],\n",
              "       [1., 1., 1.]])"
            ]
          },
          "metadata": {},
          "execution_count": 9
        }
      ]
    },
    {
      "cell_type": "code",
      "source": [
        "np.full((2,3), fill_value=7)"
      ],
      "metadata": {
        "colab": {
          "base_uri": "https://localhost:8080/"
        },
        "id": "cgs2INqSbAiB",
        "outputId": "f9885f33-fca7-48ea-f800-01e81555c936"
      },
      "execution_count": null,
      "outputs": [
        {
          "output_type": "execute_result",
          "data": {
            "text/plain": [
              "array([[7, 7, 7],\n",
              "       [7, 7, 7]])"
            ]
          },
          "metadata": {},
          "execution_count": 10
        }
      ]
    },
    {
      "cell_type": "code",
      "source": [
        "np.empty((2,4))"
      ],
      "metadata": {
        "colab": {
          "base_uri": "https://localhost:8080/"
        },
        "id": "4T9zD6mGbBGx",
        "outputId": "5eea2e18-176f-4fca-e88c-d9e6ba853d55"
      },
      "execution_count": null,
      "outputs": [
        {
          "output_type": "execute_result",
          "data": {
            "text/plain": [
              "array([[1.2, 2.4, 3.5, 4.7],\n",
              "       [6.1, 7.2, 8.3, 9.5]])"
            ]
          },
          "metadata": {},
          "execution_count": 11
        }
      ]
    },
    {
      "cell_type": "markdown",
      "source": [
        "La función **eye** crea la matriz de identidad, es decir, una matriz con elementos en la diagonal se establece en uno, y los elementos no diagonales se establecen en cero:"
      ],
      "metadata": {
        "id": "x5TB1B6ubFr4"
      }
    },
    {
      "cell_type": "code",
      "source": [
        "np.eye(5, dtype=int)"
      ],
      "metadata": {
        "colab": {
          "base_uri": "https://localhost:8080/"
        },
        "id": "3fDrbb4gbBpK",
        "outputId": "3a92768d-8193-4b7f-efe7-b6ac4623151d"
      },
      "execution_count": null,
      "outputs": [
        {
          "output_type": "execute_result",
          "data": {
            "text/plain": [
              "array([[1, 0, 0, 0, 0],\n",
              "       [0, 1, 0, 0, 0],\n",
              "       [0, 0, 1, 0, 0],\n",
              "       [0, 0, 0, 1, 0],\n",
              "       [0, 0, 0, 0, 1]])"
            ]
          },
          "metadata": {},
          "execution_count": 12
        }
      ]
    },
    {
      "cell_type": "markdown",
      "source": [
        "La función `arange` funciona como la función `range`, pero produce una matriz en lugar de una lista."
      ],
      "metadata": {
        "id": "G3_T7KJYcW_s"
      }
    },
    {
      "cell_type": "code",
      "source": [
        "np.arange(0,10,2)"
      ],
      "metadata": {
        "colab": {
          "base_uri": "https://localhost:8080/"
        },
        "id": "wEqgcux9cQ1N",
        "outputId": "c7fd2985-6cf8-469e-c83c-b1f2e18927de"
      },
      "execution_count": null,
      "outputs": [
        {
          "output_type": "execute_result",
          "data": {
            "text/plain": [
              "array([0, 2, 4, 6, 8])"
            ]
          },
          "metadata": {},
          "execution_count": 15
        }
      ]
    },
    {
      "cell_type": "markdown",
      "source": [
        "Para rangos no enteros es mejor usar `linspace`:"
      ],
      "metadata": {
        "id": "IGyBQEL5cbu8"
      }
    },
    {
      "cell_type": "code",
      "source": [
        "np.linspace(0, np.pi, 5)  # Evenly spaced range with 5 elements"
      ],
      "metadata": {
        "colab": {
          "base_uri": "https://localhost:8080/"
        },
        "id": "VlttEFOqcZH0",
        "outputId": "928fa192-2cc0-401c-8486-94f10d958c2c"
      },
      "execution_count": null,
      "outputs": [
        {
          "output_type": "execute_result",
          "data": {
            "text/plain": [
              "array([0.        , 0.78539816, 1.57079633, 2.35619449, 3.14159265])"
            ]
          },
          "metadata": {},
          "execution_count": 14
        }
      ]
    },
    {
      "cell_type": "markdown",
      "source": [
        "Con `linspace` uno no tiene que calcular la longitud del paso, sino que uno especifica el número deseado de elementos. De forma predeterminada, el punto final se incluye en el resultado, a diferencia de `arange`."
      ],
      "metadata": {
        "id": "dq3Vv7lrcmyw"
      }
    },
    {
      "cell_type": "markdown",
      "source": [
        "### Matrices con elementos aleatorios\n",
        "\n",
        "Para probar nuestros programas, podríamos usar datos reales como entrada. Sin embargo, los datos reales no siempre están disponibles y puede llevar tiempo recopilarlos. En su lugar, podríamos generar números aleatorios para usarlos como sustitutos. Se pueden generar muy fácilmente con NumPy y se pueden muestrear de varias distribuciones diferentes, de las cuales mencionamos a continuación solo algunas. Los datos aleatorios pueden simular datos reales mejor que, por ejemplo, rangos o matrices constantes. A veces también necesitamos números aleatorios en nuestros programas para elegir un subconjunto de datos reales (muestreo). NumPy puede producir fácilmente matrices de formas deseadas llenas de números aleatorios. A continuación se muestran algunos ejemplos."
      ],
      "metadata": {
        "id": "yNWuFJUOcqkq"
      }
    },
    {
      "cell_type": "code",
      "source": [
        "np.random.random((3,4))      # Elements are uniformly distributed from half-open interval [0.0,1.0)"
      ],
      "metadata": {
        "colab": {
          "base_uri": "https://localhost:8080/"
        },
        "id": "h43K0ypvcg-W",
        "outputId": "9277a851-2776-485a-c401-d7be2291afb6"
      },
      "execution_count": null,
      "outputs": [
        {
          "output_type": "execute_result",
          "data": {
            "text/plain": [
              "array([[0.38406155, 0.17914408, 0.14276733, 0.98432458],\n",
              "       [0.3745162 , 0.12064471, 0.6539686 , 0.54081648],\n",
              "       [0.41342022, 0.31419336, 0.34409813, 0.88015853]])"
            ]
          },
          "metadata": {},
          "execution_count": 16
        }
      ]
    },
    {
      "cell_type": "code",
      "source": [
        "np.random.normal(0, 1, (3,4))    # Elements are normally distributed with mean 0 and standard deviation 1"
      ],
      "metadata": {
        "colab": {
          "base_uri": "https://localhost:8080/"
        },
        "id": "GgP3WnhydxzB",
        "outputId": "4155fa28-e5ad-4d43-d6ae-0d71b410df33"
      },
      "execution_count": null,
      "outputs": [
        {
          "output_type": "execute_result",
          "data": {
            "text/plain": [
              "array([[-0.3172106 , -1.07248899,  1.5777041 , -1.09470008],\n",
              "       [ 1.60947431, -0.65848833, -0.36211328, -0.17479202],\n",
              "       [-0.8650561 ,  0.74617362, -0.95365254, -2.61769956]])"
            ]
          },
          "metadata": {},
          "execution_count": 19
        }
      ]
    },
    {
      "cell_type": "code",
      "source": [
        "np.random.randint(-2, 10, (3,4))  # Elements are uniformly distributed integers from the half-open interval [-2,10)"
      ],
      "metadata": {
        "colab": {
          "base_uri": "https://localhost:8080/"
        },
        "id": "2jlMmamyd3Pq",
        "outputId": "8d12c8cf-1621-452f-9e49-2763b4ca1c10"
      },
      "execution_count": null,
      "outputs": [
        {
          "output_type": "execute_result",
          "data": {
            "text/plain": [
              "array([[ 0, -1,  0,  5],\n",
              "       [ 0,  8,  9,  2],\n",
              "       [ 8,  7, -2,  1]])"
            ]
          },
          "metadata": {},
          "execution_count": 20
        }
      ]
    },
    {
      "cell_type": "markdown",
      "source": [
        "A veces es útil poder recrear exactamente los mismos datos en cada ejecución de nuestro programa. Por ejemplo, si hay un error en nuestro programa, que se manifiesta solo con cierta entrada, entonces para depurar nuestro programa debe comportarse de manera determinista. Podemos crear números aleatorios de forma determinista, si partimos siempre del mismo punto de partida. Este punto de partida suele ser un número entero, y lo llamamos *semilla/SEED*. Ejemplo de uso:"
      ],
      "metadata": {
        "id": "UXm1HSSyeE85"
      }
    },
    {
      "cell_type": "code",
      "source": [
        "np.random.seed(0)\n",
        "print(np.random.randint(0, 100, 10))\n",
        "print(np.random.normal(0, 1, 10))"
      ],
      "metadata": {
        "colab": {
          "base_uri": "https://localhost:8080/"
        },
        "id": "7H3-krm1d94y",
        "outputId": "7b060b1b-2a9d-4447-fbec-a06ae46f9860"
      },
      "execution_count": null,
      "outputs": [
        {
          "output_type": "stream",
          "name": "stdout",
          "text": [
            "[44 47 64 67 67  9 83 21 36 87]\n",
            "[ 1.26611853 -0.50587654  2.54520078  1.08081191  0.48431215  0.57914048\n",
            " -0.18158257  1.41020463 -0.37447169  0.27519832]\n"
          ]
        }
      ]
    },
    {
      "cell_type": "markdown",
      "source": [
        "Si ejecutas la celda anterior varias veces, siempre dará los mismos números, a diferencia de los ejemplos anteriores. ¡Intenta volver a ejecutarlos ahora!\n",
        "\n",
        "\n",
        "\n"
      ],
      "metadata": {
        "id": "AJTMdVh2hAnt"
      }
    },
    {
      "cell_type": "markdown",
      "source": [
        "## Tipos y atributos de arreglos\n",
        "\n",
        "Un array tiene varios atributos: `ndim` indica el número de dimensiones, `shape` indica el tamaño en cada dimensión, `size` indica el número de elementos y `dtype` indica el tipo de elemento. \n",
        "\n",
        "\n",
        "\n"
      ],
      "metadata": {
        "id": "YIW--Vh1hxw0"
      }
    },
    {
      "cell_type": "code",
      "source": [
        "def info(name, a):\n",
        "    print(f\"{name} has dim {a.ndim}, shape {a.shape}, size {a.size}, and dtype {a.dtype}:\")\n",
        "    print(a)"
      ],
      "metadata": {
        "id": "ibR2Q0sXeMYG"
      },
      "execution_count": null,
      "outputs": []
    },
    {
      "cell_type": "code",
      "source": [
        "b=np.array([[1,2,3], [4,5,6]])\n",
        "info(\"b\", b)"
      ],
      "metadata": {
        "colab": {
          "base_uri": "https://localhost:8080/"
        },
        "id": "xNTWZdAfh8RF",
        "outputId": "4781b085-f5ef-4717-b846-98f61bb0d8bb"
      },
      "execution_count": null,
      "outputs": [
        {
          "output_type": "stream",
          "name": "stdout",
          "text": [
            "b has dim 2, shape (2, 3), size 6, and dtype int64:\n",
            "[[1 2 3]\n",
            " [4 5 6]]\n"
          ]
        }
      ]
    },
    {
      "cell_type": "markdown",
      "source": [
        "Ten en cuenta cómo Python imprimió el arreglo tridimensional en el ejemplo anterior. Las reglas generales para imprimir un arreglo de n dimensiones como una lista anidada son:\n",
        "\n",
        "- la última dimensión se imprime de izquierda a derecha,\n",
        "\n",
        "- la penúltima se imprime de arriba a abajo,\n",
        "\n",
        "- el resto también se imprime de arriba a abajo, con cada rebanada separada de la siguiente por una línea vacía.\n",
        "\n",
        "\n"
      ],
      "metadata": {
        "id": "DAX43T0tiFFx"
      }
    },
    {
      "cell_type": "markdown",
      "source": [
        "## Indexing, slicing and reshaping\n",
        "\n",
        "### Indexing\n",
        "\n",
        "Un arreglo unidimensional se comporta como una lista en Python.\n"
      ],
      "metadata": {
        "id": "lNeDVWCQiNSo"
      }
    },
    {
      "cell_type": "code",
      "source": [
        "a=np.array([1,4,2,7,9,5])\n",
        "print(a[1])\n",
        "print(a[-2])"
      ],
      "metadata": {
        "colab": {
          "base_uri": "https://localhost:8080/"
        },
        "id": "fK57cm4yh848",
        "outputId": "81b6db22-4ed5-453d-8b92-45482dca978b"
      },
      "execution_count": null,
      "outputs": [
        {
          "output_type": "stream",
          "name": "stdout",
          "text": [
            "4\n",
            "9\n"
          ]
        }
      ]
    },
    {
      "cell_type": "markdown",
      "source": [
        "Para un arreglo multidimensional, el índice es una tupla separada por comas en lugar de un solo entero.\n",
        "\n",
        "\n",
        "\n"
      ],
      "metadata": {
        "id": "1gqxX6rQiZBl"
      }
    },
    {
      "cell_type": "code",
      "source": [
        "b=np.array([[1,2,3], [4,5,6]])\n",
        "print(b)\n",
        "print(b[1,2])    # row index 1, column index 2\n",
        "print(b[0,-1])   # row index 0, column index -1"
      ],
      "metadata": {
        "colab": {
          "base_uri": "https://localhost:8080/"
        },
        "id": "Ur0MxzvBiTpn",
        "outputId": "13acfba5-225c-48df-da2e-55b8f6e83b4e"
      },
      "execution_count": null,
      "outputs": [
        {
          "output_type": "stream",
          "name": "stdout",
          "text": [
            "[[1 2 3]\n",
            " [4 5 6]]\n",
            "6\n",
            "3\n"
          ]
        }
      ]
    },
    {
      "cell_type": "code",
      "source": [
        "# As with lists, modification through indexing is possible\n",
        "b[0,0] = 10\n",
        "print(b)"
      ],
      "metadata": {
        "colab": {
          "base_uri": "https://localhost:8080/"
        },
        "id": "0fGqDPMMiaGt",
        "outputId": "5ab485f9-4dbd-4d61-d994-7836e4f598d6"
      },
      "execution_count": null,
      "outputs": [
        {
          "output_type": "stream",
          "name": "stdout",
          "text": [
            "[[10  2  3]\n",
            " [ 4  5  6]]\n"
          ]
        }
      ]
    },
    {
      "cell_type": "markdown",
      "source": [
        "Ten en cuenta que si solo das un índice a un arreglo multidimensional, indexa la primera dimensión del arreglo, que son las filas. Por ejemplo:\n",
        "\n",
        "\n",
        "\n"
      ],
      "metadata": {
        "id": "qvI7llZNiiX9"
      }
    },
    {
      "cell_type": "code",
      "source": [
        "print(b[0])    # First row\n",
        "print(b[1])    # Second row"
      ],
      "metadata": {
        "colab": {
          "base_uri": "https://localhost:8080/"
        },
        "id": "dCKnTmxjibJl",
        "outputId": "56337c42-66a7-4784-d7f1-704fc6abd86d"
      },
      "execution_count": null,
      "outputs": [
        {
          "output_type": "stream",
          "name": "stdout",
          "text": [
            "[10  2  3]\n",
            "[4 5 6]\n"
          ]
        }
      ]
    },
    {
      "cell_type": "markdown",
      "source": [
        "#### Slicing\n",
        "\n",
        "El slicing funciona de manera similar a las listas, pero ahora podemos tener slices en diferentes dimensiones:"
      ],
      "metadata": {
        "id": "ZhMz2TedlLsJ"
      }
    },
    {
      "cell_type": "code",
      "source": [
        "print(a)\n",
        "print(a[1:3])\n",
        "print(a[::-1])    # Reverses the array"
      ],
      "metadata": {
        "colab": {
          "base_uri": "https://localhost:8080/"
        },
        "id": "e9XZlHPAimRd",
        "outputId": "bcc45e44-0162-4c1d-d265-79dd796c6e00"
      },
      "execution_count": null,
      "outputs": [
        {
          "output_type": "stream",
          "name": "stdout",
          "text": [
            "[1 4 2 7 9 5]\n",
            "[4 2]\n",
            "[5 9 7 2 4 1]\n"
          ]
        }
      ]
    },
    {
      "cell_type": "code",
      "source": [
        "print(b)\n",
        "print(b[:,0])\n",
        "print(b[0,:])\n",
        "print(b[:,1:])"
      ],
      "metadata": {
        "colab": {
          "base_uri": "https://localhost:8080/"
        },
        "id": "X48601x3lQ_V",
        "outputId": "a1fff7e2-1293-4407-ce95-fd747043c40e"
      },
      "execution_count": null,
      "outputs": [
        {
          "output_type": "stream",
          "name": "stdout",
          "text": [
            "[[10  2  3]\n",
            " [ 4  5  6]]\n",
            "[10  4]\n",
            "[10  2  3]\n",
            "[[2 3]\n",
            " [5 6]]\n"
          ]
        }
      ]
    },
    {
      "cell_type": "markdown",
      "source": [
        "Incluso podemos asignar a un slice:\n",
        "\n",
        "\n",
        "\n"
      ],
      "metadata": {
        "id": "96yz_7lXlV4m"
      }
    },
    {
      "cell_type": "code",
      "source": [
        "b[:,1:] = 7\n",
        "print(b)"
      ],
      "metadata": {
        "colab": {
          "base_uri": "https://localhost:8080/"
        },
        "id": "j68G6ItClSoc",
        "outputId": "a333cbdf-4793-4ed9-e4da-266810a41d09"
      },
      "execution_count": null,
      "outputs": [
        {
          "output_type": "stream",
          "name": "stdout",
          "text": [
            "[[10  7  7]\n",
            " [ 4  7  7]]\n"
          ]
        }
      ]
    },
    {
      "cell_type": "markdown",
      "source": [
        "Un forma muy común es extraer filas o columnas de un arreglo:\n"
      ],
      "metadata": {
        "id": "86l2nWtpleAT"
      }
    },
    {
      "cell_type": "code",
      "source": [
        "print(b[:,0])    # First column\n",
        "print(b[1,:])    # Second row"
      ],
      "metadata": {
        "id": "rNEosm_SlZbp"
      },
      "execution_count": null,
      "outputs": []
    },
    {
      "cell_type": "markdown",
      "source": [
        "### **Reshaping**\n",
        "\n",
        "Cuando se cambia la forma de un arreglo, su número de elementos permanece igual, pero se reinterpretan para tener una forma diferente. Un ejemplo de esto es interpretar un arreglo unidimensional como un arreglo bidimensional:"
      ],
      "metadata": {
        "id": "PM3FziPulhc2"
      }
    },
    {
      "cell_type": "code",
      "source": [
        "a=np.arange(9)\n",
        "anew=a.reshape(3,3)\n",
        "info(\"anew\", anew)\n",
        "info(\"a\", a)"
      ],
      "metadata": {
        "colab": {
          "base_uri": "https://localhost:8080/"
        },
        "id": "DDHvwS79lhu1",
        "outputId": "54fe9de3-a78f-4262-bacd-87cf4bf4164d"
      },
      "execution_count": null,
      "outputs": [
        {
          "output_type": "stream",
          "name": "stdout",
          "text": [
            "anew has dim 2, shape (3, 3), size 9, and dtype int64:\n",
            "[[0 1 2]\n",
            " [3 4 5]\n",
            " [6 7 8]]\n",
            "a has dim 1, shape (9,), size 9, and dtype int64:\n",
            "[0 1 2 3 4 5 6 7 8]\n"
          ]
        }
      ]
    },
    {
      "cell_type": "code",
      "source": [
        "d=np.arange(4)             # 1d array\n",
        "dr=d.reshape(1,4)          # row vector\n",
        "dc=d.reshape(4,1)          # column vector\n",
        "info(\"d\", d)\n",
        "info(\"dr\", dr)\n",
        "info(\"dc\", dc)"
      ],
      "metadata": {
        "colab": {
          "base_uri": "https://localhost:8080/"
        },
        "id": "EJVpMw3rlrP2",
        "outputId": "a5194092-edeb-4b46-edd7-ad9a8ffbb4c3"
      },
      "execution_count": null,
      "outputs": [
        {
          "output_type": "stream",
          "name": "stdout",
          "text": [
            "d has dim 1, shape (4,), size 4, and dtype int64:\n",
            "[0 1 2 3]\n",
            "dr has dim 2, shape (1, 4), size 4, and dtype int64:\n",
            "[[0 1 2 3]]\n",
            "dc has dim 2, shape (4, 1), size 4, and dtype int64:\n",
            "[[0]\n",
            " [1]\n",
            " [2]\n",
            " [3]]\n"
          ]
        }
      ]
    },
    {
      "cell_type": "markdown",
      "source": [
        "<div class=\"alert alert-warning\">\n",
        "Ten en cuenta que el arreglo unidimensional y los vectores de fila y columna, que son arreglos bidimensionales, son objetos fundamentalmente diferentes, aunque parecen similares. Se comportan de manera diferente cuando combinamos u operamos arreglos de formas diferentes, como veremos en la siguiente sección y más adelante en este material.\n",
        "</div>"
      ],
      "metadata": {
        "id": "M0PjmFhcnd1T"
      }
    },
    {
      "cell_type": "markdown",
      "source": [
        "Una sintaxis alternativa para crear, por ejemplo, vectores de columna o fila, es a través de la palabra clave `np.newaxis`. A veces esto es más fácil o más natural que con el método reshape:\n",
        "\n",
        "\n",
        "\n"
      ],
      "metadata": {
        "id": "pzJy0ULfpJgV"
      }
    },
    {
      "cell_type": "code",
      "source": [
        "info(\"d\", d)\n",
        "info(\"drow\", d[:, np.newaxis])\n",
        "info(\"drow\", d[np.newaxis, :])\n",
        "info(\"dcol\", d[:, np.newaxis])"
      ],
      "metadata": {
        "colab": {
          "base_uri": "https://localhost:8080/"
        },
        "id": "Gdk5HiC6pJQf",
        "outputId": "e600695b-b883-4721-a811-aa9d4945cc5d"
      },
      "execution_count": null,
      "outputs": [
        {
          "output_type": "stream",
          "name": "stdout",
          "text": [
            "d has dim 1, shape (4,), size 4, and dtype int64:\n",
            "[0 1 2 3]\n",
            "drow has dim 2, shape (4, 1), size 4, and dtype int64:\n",
            "[[0]\n",
            " [1]\n",
            " [2]\n",
            " [3]]\n",
            "drow has dim 2, shape (1, 4), size 4, and dtype int64:\n",
            "[[0 1 2 3]]\n",
            "dcol has dim 2, shape (4, 1), size 4, and dtype int64:\n",
            "[[0]\n",
            " [1]\n",
            " [2]\n",
            " [3]]\n"
          ]
        }
      ]
    },
    {
      "cell_type": "markdown",
      "source": [
        "### **Array concatenation, splitting and stacking**\n",
        "\n",
        "Existen dos formas de combinar varios arrays en uno más grande: `concatenate` y `stack`. Concatenate toma arrays n-dimensionales y devuelve un array n-dimensional, mientras que stack toma arrays n-dimensionales y devuelve un array n+1-dimensional. Aquí te mostramos algunos ejemplos:"
      ],
      "metadata": {
        "id": "rZcg52cdpdhJ"
      }
    },
    {
      "cell_type": "code",
      "source": [
        "a=np.arange(2)\n",
        "b=np.arange(2,5)\n",
        "print(f\"a has shape {a.shape}: {a}\")\n",
        "print(f\"b has shape {b.shape}: {b}\")\n",
        "np.concatenate((a,b))  # concatenating 1d arrays"
      ],
      "metadata": {
        "colab": {
          "base_uri": "https://localhost:8080/"
        },
        "id": "G707oAyGlt2m",
        "outputId": "f4b81ad2-36b3-457c-c185-86682b7bc495"
      },
      "execution_count": null,
      "outputs": [
        {
          "output_type": "stream",
          "name": "stdout",
          "text": [
            "a has shape (2,): [0 1]\n",
            "b has shape (3,): [2 3 4]\n"
          ]
        },
        {
          "output_type": "execute_result",
          "data": {
            "text/plain": [
              "array([0, 1, 2, 3, 4])"
            ]
          },
          "metadata": {},
          "execution_count": 34
        }
      ]
    },
    {
      "cell_type": "code",
      "source": [
        "c=np.arange(1,5).reshape(2,2)\n",
        "print(f\"c has shape {c.shape}:\", c, sep=\"\\n\")\n",
        "np.concatenate((c,c))   # concatenating 2d arrays"
      ],
      "metadata": {
        "colab": {
          "base_uri": "https://localhost:8080/"
        },
        "id": "AqUk08l4qTEC",
        "outputId": "0fc253dd-3212-43ff-982b-f1d1190c58b8"
      },
      "execution_count": null,
      "outputs": [
        {
          "output_type": "stream",
          "name": "stdout",
          "text": [
            "c has shape (2, 2):\n",
            "[[1 2]\n",
            " [3 4]]\n"
          ]
        },
        {
          "output_type": "execute_result",
          "data": {
            "text/plain": [
              "array([[1, 2],\n",
              "       [3, 4],\n",
              "       [1, 2],\n",
              "       [3, 4]])"
            ]
          },
          "metadata": {},
          "execution_count": 35
        }
      ]
    },
    {
      "cell_type": "markdown",
      "source": [
        "Por defecto, `concatenate` une los arrays a lo largo del eje 0. Para unir los arrays horizontalmente, agregue el parámetro `axis=1`:\n"
      ],
      "metadata": {
        "id": "twPFvdtuqevR"
      }
    },
    {
      "cell_type": "code",
      "source": [
        "np.concatenate((c,c), axis=1)"
      ],
      "metadata": {
        "colab": {
          "base_uri": "https://localhost:8080/"
        },
        "id": "uiJ95nyFqT6j",
        "outputId": "79153ead-9883-4218-f618-e2fcc1209e68"
      },
      "execution_count": null,
      "outputs": [
        {
          "output_type": "execute_result",
          "data": {
            "text/plain": [
              "array([[1, 2, 1, 2],\n",
              "       [3, 4, 3, 4]])"
            ]
          },
          "metadata": {},
          "execution_count": 36
        }
      ]
    },
    {
      "cell_type": "markdown",
      "source": [
        "Si deseas concatenar arreglos con diferentes dimensiones, por ejemplo para agregar una nueva columna a un arreglo de 2d, primero debes remodelar los arreglos para que tengan el mismo número de dimensiones:\n",
        "\n",
        "\n",
        "\n"
      ],
      "metadata": {
        "id": "vEwp6OXSqtZJ"
      }
    },
    {
      "cell_type": "code",
      "source": [
        "print(\"New row:\")\n",
        "print(np.concatenate((c,a.reshape(1,2))))\n",
        "print(\"New column:\")\n",
        "print(np.concatenate((c,a.reshape(2,1)), axis=1))"
      ],
      "metadata": {
        "colab": {
          "base_uri": "https://localhost:8080/"
        },
        "id": "ZRNcZLPuqifc",
        "outputId": "5d9c249c-25e3-4500-e4ba-ddb66ef67059"
      },
      "execution_count": null,
      "outputs": [
        {
          "output_type": "stream",
          "name": "stdout",
          "text": [
            "New row:\n",
            "[[1 2]\n",
            " [3 4]\n",
            " [0 1]]\n",
            "New column:\n",
            "[[1 2 0]\n",
            " [3 4 1]]\n"
          ]
        }
      ]
    },
    {
      "cell_type": "markdown",
      "source": [
        "Usa `stack` para crear arrays de dimensiones superiores a partir de arrays de dimensiones inferiores:"
      ],
      "metadata": {
        "id": "TWznHODAqx39"
      }
    },
    {
      "cell_type": "code",
      "source": [
        "np.stack((b,b))"
      ],
      "metadata": {
        "colab": {
          "base_uri": "https://localhost:8080/"
        },
        "id": "kMs1ed4aqu5E",
        "outputId": "96efa4fc-b343-4c87-e5a8-8950c70324ae"
      },
      "execution_count": null,
      "outputs": [
        {
          "output_type": "execute_result",
          "data": {
            "text/plain": [
              "array([[2, 3, 4],\n",
              "       [2, 3, 4]])"
            ]
          },
          "metadata": {},
          "execution_count": 39
        }
      ]
    },
    {
      "cell_type": "code",
      "source": [
        "np.stack((b,b), axis=1)"
      ],
      "metadata": {
        "colab": {
          "base_uri": "https://localhost:8080/"
        },
        "id": "yGXEWnCEqwU9",
        "outputId": "ab0d9baa-fc31-4e09-e0a2-9ad2b81d9840"
      },
      "execution_count": null,
      "outputs": [
        {
          "output_type": "execute_result",
          "data": {
            "text/plain": [
              "array([[2, 2],\n",
              "       [3, 3],\n",
              "       [4, 4]])"
            ]
          },
          "metadata": {},
          "execution_count": 40
        }
      ]
    },
    {
      "cell_type": "markdown",
      "source": [
        "Operación inversa de `concatenate` es split. Su argumento especifica la cantidad de partes iguales en que se divide el array, o especifica explícitamente los puntos de división."
      ],
      "metadata": {
        "id": "0E4-r-Forvpb"
      }
    },
    {
      "cell_type": "code",
      "source": [
        "d=np.arange(12).reshape(6,2)\n",
        "print(\"d:\")\n",
        "print(d)\n",
        "d1,d2 = np.split(d, 2)\n",
        "print(\"d1:\")\n",
        "print(d1)\n",
        "print(\"d2:\")\n",
        "print(d2)"
      ],
      "metadata": {
        "id": "gbc8NzAMqw5N"
      },
      "execution_count": null,
      "outputs": []
    },
    {
      "cell_type": "code",
      "source": [
        "d=np.arange(12).reshape(2,6)\n",
        "print(\"d:\")\n",
        "print(d)\n",
        "parts=np.split(d, (2,3,5), axis=1)\n",
        "for i, p in enumerate(parts):\n",
        "    print(\"part %i:\" % i)\n",
        "    print(p)"
      ],
      "metadata": {
        "colab": {
          "base_uri": "https://localhost:8080/"
        },
        "id": "ft0sLsrHr82-",
        "outputId": "17777b67-01cc-48f7-a324-aa534eb86413"
      },
      "execution_count": null,
      "outputs": [
        {
          "output_type": "stream",
          "name": "stdout",
          "text": [
            "d:\n",
            "[[ 0  1  2  3  4  5]\n",
            " [ 6  7  8  9 10 11]]\n",
            "part 0:\n",
            "[[0 1]\n",
            " [6 7]]\n",
            "part 1:\n",
            "[[2]\n",
            " [8]]\n",
            "part 2:\n",
            "[[ 3  4]\n",
            " [ 9 10]]\n",
            "part 3:\n",
            "[[ 5]\n",
            " [11]]\n"
          ]
        }
      ]
    },
    {
      "cell_type": "markdown",
      "source": [
        "## Fast computation using universal functions\n",
        "\n",
        "Además de proporcionar una forma de almacenar y acceder a matrices multidimensionales, NumPy también proporciona varias rutinas para realizar cálculos en ellas. Una de las razones de la popularidad de NumPy es que estos cálculos pueden ser muy eficientes, mucho más eficientes de lo que Python puede hacer normalmente. Los mayores cuellos de botella en la eficiencia son los bucles, que pueden iterarse millones, miles de millones o incluso más veces. Los bucles deben ser lo más eficientes posible. Lo que ralentiza los bucles en Python es el hecho de que Python es un lenguaje dinámicamente tipado. Eso significa que en cada expresión, Python tiene que averiguar los tipos de los argumentos de las operaciones. Consideremos el siguiente bucle:\n",
        "\n",
        "\n",
        "\n"
      ],
      "metadata": {
        "id": "UPb6xd9FsFAB"
      }
    },
    {
      "cell_type": "code",
      "source": [
        "L=[1, 5.2, \"ab\"]\n",
        "L2=[]\n",
        "for x in L:\n",
        "    L2.append(x*2)\n",
        "print(L2)"
      ],
      "metadata": {
        "colab": {
          "base_uri": "https://localhost:8080/"
        },
        "id": "NB8zz36Ir__g",
        "outputId": "e720446b-7e96-4e92-896d-be637e532714"
      },
      "execution_count": null,
      "outputs": [
        {
          "output_type": "stream",
          "name": "stdout",
          "text": [
            "[2, 10.4, 'abab']\n"
          ]
        }
      ]
    },
    {
      "cell_type": "markdown",
      "source": [
        "En cada iteración de este bucle, Python debe determinar el tipo de la variable x, que en este ejemplo puede ser un entero, un flotante o una cadena, y según este tipo llamar a una función diferente para realizar la \"multiplicación\" por dos. Lo que hace eficiente a NumPy es el requisito de que cada elemento en una matriz debe ser del mismo tipo. Esta homogeneidad de matrices hace posible crear operaciones vectorizadas, que no operan en elementos individuales, sino en matrices (o submatrices). El ejemplo anterior que utiliza operaciones vectorizadas de NumPy se muestra a continuación."
      ],
      "metadata": {
        "id": "KDPsHul65yav"
      }
    },
    {
      "cell_type": "code",
      "source": [
        "a=np.array([2.1, 5.0, 17.2])\n",
        "a2=a*2\n",
        "print(a2)"
      ],
      "metadata": {
        "colab": {
          "base_uri": "https://localhost:8080/"
        },
        "id": "6h6VXRgq5oh-",
        "outputId": "eb5b786b-3ecb-4c78-b1b9-405a4fc9776a"
      },
      "execution_count": null,
      "outputs": [
        {
          "output_type": "stream",
          "name": "stdout",
          "text": [
            "[ 4.2 10.  34.4]\n"
          ]
        }
      ]
    },
    {
      "cell_type": "markdown",
      "source": [
        "Dado que cada iteración utiliza operaciones idénticas y solo difieren los datos, esto puede compilarse en lenguaje de máquina y luego realizarse en una sola vez, evitando así la escritura dinámica de Python. El nombre de operación vectorial proviene del álgebra lineal, donde la adición de dos vectores $v=(v_1,v_2, \\ldots, v_d)$ y $w=(w_1,w_2, \\ldots, w_d)$ se define elemento por elemento como $v+w = (v_1 + w_1,v_2 + w_2, \\ldots, v_d + w_d)$.\n",
        "\n",
        "Además de la adición, hay varias funciones matemáticas definidas en forma de vector. Las operaciones aritméticas básicas son: adición `+`, sustracción `-`, negación `-`, multiplicación `*`, división `/`, división de piso `//`, exponenciación `**` y resto `%`.\n",
        "\n",
        "Estas operaciones pueden combinarse en expresiones más complicadas. Un ejemplo:\n",
        "\n",
        "\n",
        "\n"
      ],
      "metadata": {
        "id": "C_SUFukK6CMx"
      }
    },
    {
      "cell_type": "code",
      "source": [
        "b=np.array([-1, 3.2, 2.4])\n",
        "print(-a**2 * b)"
      ],
      "metadata": {
        "id": "utrohrz_50Fa"
      },
      "execution_count": null,
      "outputs": []
    },
    {
      "cell_type": "markdown",
      "source": [
        "Varias otras funciones matemáticas también están definidas. A continuación se pueden encontrar algunos ejemplos de estas:"
      ],
      "metadata": {
        "id": "1amk19037EjL"
      }
    },
    {
      "cell_type": "code",
      "source": [
        "print(np.abs(b))\n",
        "print(np.cos(b))\n",
        "print(np.exp(b))\n",
        "print(np.log2(np.abs(b)))"
      ],
      "metadata": {
        "id": "RiZDBztm7NFp"
      },
      "execution_count": null,
      "outputs": []
    },
    {
      "cell_type": "markdown",
      "source": [
        "En la nomenclatura de NumPy, estas operaciones vectoriales se llaman ufuncs (funciones universales)."
      ],
      "metadata": {
        "id": "-i9k7Wdp7OgZ"
      }
    },
    {
      "cell_type": "markdown",
      "source": [
        "## Aggregations: max, min, sum, mean, standard deviation...\n",
        "\n",
        "Las agregaciones nos permiten condensar la información en una matriz en solo algunos números."
      ],
      "metadata": {
        "id": "TomXl6D27bMI"
      }
    },
    {
      "cell_type": "code",
      "source": [
        "np.random.seed(0)\n",
        "a=np.random.randint(-100, 100, (4,5))\n",
        "print(a)\n",
        "print(f\"Minimum: {a.min()}, maximum: {a.max()}\")\n",
        "print(f\"Sum: {a.sum()}\")\n",
        "print(f\"Mean: {a.mean()}, standard deviation: {a.std()}\")"
      ],
      "metadata": {
        "id": "EYDv9fRE7Z6n"
      },
      "execution_count": null,
      "outputs": []
    },
    {
      "cell_type": "markdown",
      "source": [
        "En lugar de agregar sobre toda la matriz, también podemos agregar solo sobre ciertos ejes:"
      ],
      "metadata": {
        "id": "eJuSy-Gl7i1U"
      }
    },
    {
      "cell_type": "code",
      "source": [
        "np.random.seed(9)\n",
        "b=np.random.randint(0, 10, (3,4))\n",
        "print(b)\n",
        "print(\"Column sums:\", b.sum(axis=0))\n",
        "print(\"Row sums:\", b.sum(axis=1))"
      ],
      "metadata": {
        "id": "4pTEylp87pRA"
      },
      "execution_count": null,
      "outputs": []
    },
    {
      "cell_type": "markdown",
      "source": [
        "![aggregation](https://raw.githubusercontent.com/csmastersUH/data_analysis_with_python_2020/master/aggregation.svg)"
      ],
      "metadata": {
        "id": "AFvqoz2w7qsg"
      }
    },
    {
      "cell_type": "markdown",
      "source": [
        "<div class=\"alert alert-warning\">\n",
        "Tenga en cuenta que la mayoría de las funciones de agregación en NumPy tienen métodos correspondientes. Además, el lenguaje Python tiene funciones integradas `sum`, `min`, `max`, `any` y `all` para secuencias. Asegúrese de no usarlos accidentalmente para matrices, ya que pueden tener semánticas ligeramente diferentes y ser significativamente más lentos que las funciones y métodos de NumPy.\n",
        "</div>\n",
        "\n",
        "| Python function | NumPy function | NumPy method |\n",
        "| ----- | -------------- | ------------ |\n",
        "| sum   | np.sum         | a.sum |\n",
        "| -     | np.prod        | a.prod |\n",
        "| -     | np.mean        | a.mean |\n",
        "| -     | np.std         | a.std |\n",
        "| -     | np.var         | a.var |\n",
        "| min   | np.min         | a.min |\n",
        "| max   | np.max         | a.max |\n",
        "| -     | np.argmin      | a.argmin |\n",
        "| -     | np.argmax      | a.argmax |\n",
        "| -     | np.median      | - |\n",
        "| -     | np.percentile  | - |\n",
        "| any   | np.any         | a.any |\n",
        "| all   | np.all         | a.all |\n",
        "\n",
        " "
      ],
      "metadata": {
        "id": "Rb4vgwtY8lNa"
      }
    },
    {
      "cell_type": "markdown",
      "source": [
        "Vamos a medir cuánto más lenta es la función `sum` de Python en comparación con su equivalente en NumPy cuando se agregan elementos en una matriz:"
      ],
      "metadata": {
        "id": "ZuwynTnE8t3l"
      }
    },
    {
      "cell_type": "code",
      "source": [
        "a=np.arange(1000)\n",
        "%timeit np.sum(a)"
      ],
      "metadata": {
        "id": "ywZ65rp57r9i"
      },
      "execution_count": null,
      "outputs": []
    },
    {
      "cell_type": "code",
      "source": [
        "%timeit sum(a)"
      ],
      "metadata": {
        "id": "8Xs7Uw8E8x9o"
      },
      "execution_count": null,
      "outputs": []
    },
    {
      "cell_type": "markdown",
      "source": [
        "La velocidad de NumPy se debe en parte al hecho de que sus matrices deben tener el mismo tipo para todos sus elementos. Este requisito permite algunas optimizaciones eficientes."
      ],
      "metadata": {
        "id": "GZMQc4648yZQ"
      }
    },
    {
      "cell_type": "markdown",
      "source": [
        "## Broadcasting\n",
        "\n",
        "Hemos visto que NumPy permite operaciones de matrices que se realizan elemento a elemento. Pero NumPy también permite operaciones binarias que no requieren que las dos matrices tengan la misma forma. Por ejemplo, podemos agregar 4 a todos los elementos de una matriz con la siguiente expresión:"
      ],
      "metadata": {
        "id": "AXvbqR5IJP0L"
      }
    },
    {
      "cell_type": "code",
      "source": [
        "import numpy as np"
      ],
      "metadata": {
        "id": "6wed3XDDY_EB"
      },
      "execution_count": null,
      "outputs": []
    },
    {
      "cell_type": "code",
      "source": [
        "np.arange(3) + np.array([4])"
      ],
      "metadata": {
        "colab": {
          "base_uri": "https://localhost:8080/"
        },
        "id": "WKxreyF_82cm",
        "outputId": "4beec9ac-e6e8-4109-ba19-beb7517127f7"
      },
      "execution_count": null,
      "outputs": [
        {
          "output_type": "execute_result",
          "data": {
            "text/plain": [
              "array([4, 5, 6])"
            ]
          },
          "metadata": {},
          "execution_count": 4
        }
      ]
    },
    {
      "cell_type": "markdown",
      "source": [
        "De hecho, debido a que una matriz con solo un elemento, digamos 4, puede considerarse como un escalar 4, NumPy permite la siguiente expresión, que es equivalente a la anterior:\n",
        "\n",
        "\n",
        "\n"
      ],
      "metadata": {
        "id": "_wTY5w57JbkP"
      }
    },
    {
      "cell_type": "code",
      "source": [
        "np.arange(3) + 4"
      ],
      "metadata": {
        "id": "_t1Zise2JYGv"
      },
      "execution_count": null,
      "outputs": []
    },
    {
      "cell_type": "markdown",
      "source": [
        "Para tener una idea de qué operaciones se permiten, es decir, qué formas de las dos matrices son compatibles, puede ser útil pensar que antes de que se realice la operación binaria, NumPy intenta estirar las matrices para que tengan la misma forma. Por ejemplo, en el ejemplo anterior, NumPy primero estiró la matriz `np.array([4])` (o el escalar 4) a la matriz `np.array([4,4,4])` y luego realizó la adición elemento a elemento. En NumPy, este estiramiento se llama broadcasting.\n",
        "\n",
        "![broadcast](https://raw.githubusercontent.com/csmastersUH/data_analysis_with_python_2020/master/broadcast.svg)\n",
        "\n",
        "Las matrices argumento pueden tener, por supuesto, dimensiones superiores, como muestra el siguiente ejemplo:\n",
        "\n",
        "\n",
        "\n"
      ],
      "metadata": {
        "id": "j3h0uKZkJfQh"
      }
    },
    {
      "cell_type": "code",
      "source": [
        "a=np.full((3,3), 5)\n",
        "b=np.arange(3)\n",
        "print(\"a:\", a, sep=\"\\n\")\n",
        "print(\"b:\", b)\n",
        "print(\"a+b:\", a+b, sep=\"\\n\")"
      ],
      "metadata": {
        "colab": {
          "base_uri": "https://localhost:8080/"
        },
        "id": "iiTb8D_VKLNU",
        "outputId": "ea459159-8f73-4c6a-e8a0-f6cd0c18a0a3"
      },
      "execution_count": null,
      "outputs": [
        {
          "output_type": "stream",
          "name": "stdout",
          "text": [
            "a:\n",
            "[[5 5 5]\n",
            " [5 5 5]\n",
            " [5 5 5]]\n",
            "b: [0 1 2]\n",
            "a+b:\n",
            "[[5 6 7]\n",
            " [5 6 7]\n",
            " [5 6 7]]\n"
          ]
        }
      ]
    },
    {
      "cell_type": "markdown",
      "source": [
        "En este ejemplo el segundo argumento fue \"broadcasted\" al array inicial."
      ],
      "metadata": {
        "id": "_bg4tRB6KUh9"
      }
    },
    {
      "cell_type": "code",
      "source": [
        "np.array([[0, 1, 2],\n",
        "       [0, 1, 2],\n",
        "       [0, 1, 2]])"
      ],
      "metadata": {
        "colab": {
          "base_uri": "https://localhost:8080/"
        },
        "id": "eZonHrgGKSEO",
        "outputId": "13f09a11-5c8e-48e5-f636-eb286db168b9"
      },
      "execution_count": null,
      "outputs": [
        {
          "output_type": "execute_result",
          "data": {
            "text/plain": [
              "array([[0, 1, 2],\n",
              "       [0, 1, 2],\n",
              "       [0, 1, 2]])"
            ]
          },
          "metadata": {},
          "execution_count": 8
        }
      ]
    },
    {
      "cell_type": "markdown",
      "source": [
        "y luego se realizó la adición. Y puede ser que ambas matrices argumento deban ser difundidas como en el siguiente ejemplo:\n",
        "\n",
        "\n",
        "\n"
      ],
      "metadata": {
        "id": "JCTpoQ_VKcTx"
      }
    },
    {
      "cell_type": "code",
      "source": [
        "a=np.arange(3)\n",
        "b=np.arange(3).reshape((3,1))\n",
        "info(\"a\", a)\n",
        "info(\"b\", b)\n",
        "info(\"a+b\", a+b)"
      ],
      "metadata": {
        "id": "vPcv8tB_KXx3"
      },
      "execution_count": null,
      "outputs": []
    },
    {
      "cell_type": "markdown",
      "source": [
        "Para ver a qué se difundieron los argumentos antes de la operación binaria, se puede usar la función `np.broadcast_arrays`:\n"
      ],
      "metadata": {
        "id": "qKEX591UKfRk"
      }
    },
    {
      "cell_type": "code",
      "source": [
        "broadcasted_a, broadcasted_b = np.broadcast_arrays(a,b)\n",
        "info(\"broadcasted_a\", broadcasted_a)\n",
        "info(\"broadcasted_b\", broadcasted_b)"
      ],
      "metadata": {
        "id": "MOtfU80aKf1D"
      },
      "execution_count": null,
      "outputs": []
    },
    {
      "cell_type": "markdown",
      "source": [
        "Entonces, ambas matrices se difundieron, pero de diferentes maneras. A continuación, revisaremos las reglas de cómo funciona la difusión.\n",
        "\n",
        "1. Todas las matrices de entrada con ndim menor que la matriz de entrada con el mayor ndim, tienen 1 como prefijo en sus formas.\n",
        "\n",
        "2. El tamaño en cada dimensión de la forma de salida es el máximo de todos los tamaños de entrada en esa dimensión.\n",
        "\n",
        "3. Una entrada se puede usar en el cálculo si su tamaño en una dimensión particular coincide con el tamaño de salida en esa dimensión, o tiene un valor exactamente igual a 1.\n",
        "\n",
        "4. Si una entrada tiene un tamaño de dimensión de 1 en su forma, la primera entrada de datos en esa dimensión se usará para todos los cálculos a lo largo de esa dimensión. En otras palabras, el mecanismo de avance de la función universal simplemente no avanzará a lo largo de esa dimensión (la longitud de paso será 0 para esa dimensión).\n",
        "\n",
        "\n"
      ],
      "metadata": {
        "id": "cpB65mKbKq4x"
      }
    }
  ]
}