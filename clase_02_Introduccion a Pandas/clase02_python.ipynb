{
  "cells": [
    {
      "cell_type": "markdown",
      "metadata": {
        "id": "0Pj0rGR7JSYd"
      },
      "source": [
        "## **Capacitación en inteligencia artificial para observación de la tierra - Básico**\n",
        "*Cesar Aybar*"
      ]
    },
    {
      "cell_type": "code",
      "execution_count": null,
      "metadata": {},
      "outputs": [],
      "source": [
        "#TIPOS DE DATOS \n",
        "\"\" #-> string \n",
        "12 #-> numero(integer)\n",
        "12.5 #-> numero(float)\n",
        "True/false #-> boolean "
      ]
    },
    {
      "cell_type": "code",
      "execution_count": null,
      "metadata": {},
      "outputs": [],
      "source": [
        "#ESTRUCTURA DE DATOS \n",
        "[] #-> lista\n",
        "{\"key1\": \"value1\", \"key2\": \"value2\"} #-> diccionario\n",
        "() #-> tupla"
      ]
    },
    {
      "cell_type": "code",
      "execution_count": null,
      "metadata": {},
      "outputs": [],
      "source": [
        "#METODOS DE LISTAS\n",
        "lista = [1,2,3,4,5]\n",
        "lista.append(6) #-> agrega un elemento al final de la lista\n",
        "lista.pop() #-> elimina el ultimo elemento de la lista\n",
        "lista.pop(0) #-> elimina el elemento de la posicion 0 de la lista\n",
        "lista[4] #-> devuelve el elemento de la posicion 4 de la lista(subset)\n"
      ]
    },
    {
      "cell_type": "code",
      "execution_count": 4,
      "metadata": {},
      "outputs": [],
      "source": [
        "#METODOS DE DICCIONARIOS\n",
        "diccionario = {\"key1\": \"value1\", \"key2\": \"value2\"}\n",
        "#diccionario[\"key1\"] -> devuelve el valor de la key1"
      ]
    },
    {
      "cell_type": "code",
      "execution_count": 5,
      "metadata": {},
      "outputs": [
        {
          "data": {
            "text/plain": [
              "'value1'"
            ]
          },
          "execution_count": 5,
          "metadata": {},
          "output_type": "execute_result"
        }
      ],
      "source": [
        "diccionario[\"key1\"] "
      ]
    },
    {
      "cell_type": "code",
      "execution_count": null,
      "metadata": {},
      "outputs": [],
      "source": [
        "#CONDICIONALES\n",
        "if condicion:\n",
        "    print(\"hola\")"
      ]
    },
    {
      "cell_type": "code",
      "execution_count": null,
      "metadata": {},
      "outputs": [],
      "source": [
        "#BUCLES [.....>\n",
        "list1 = list(range(1,11))\n",
        "list2 = list1\n",
        "list2=list1.copy()#Método que apunta a otra dirección de memoria \n",
        "list2.reverse()"
      ]
    },
    {
      "cell_type": "code",
      "execution_count": 6,
      "metadata": {},
      "outputs": [],
      "source": [
        "list1 = list(range(1,11))"
      ]
    },
    {
      "cell_type": "code",
      "execution_count": 7,
      "metadata": {},
      "outputs": [
        {
          "data": {
            "text/plain": [
              "[1, 2, 3, 4, 5, 6, 7, 8, 9, 10]"
            ]
          },
          "execution_count": 7,
          "metadata": {},
          "output_type": "execute_result"
        }
      ],
      "source": [
        "list1"
      ]
    },
    {
      "cell_type": "code",
      "execution_count": 8,
      "metadata": {},
      "outputs": [],
      "source": [
        "list2 = list1"
      ]
    },
    {
      "cell_type": "code",
      "execution_count": 9,
      "metadata": {},
      "outputs": [],
      "source": [
        "list2.reverse()"
      ]
    },
    {
      "cell_type": "code",
      "execution_count": 10,
      "metadata": {},
      "outputs": [
        {
          "data": {
            "text/plain": [
              "[10, 9, 8, 7, 6, 5, 4, 3, 2, 1]"
            ]
          },
          "execution_count": 10,
          "metadata": {},
          "output_type": "execute_result"
        }
      ],
      "source": [
        "list2"
      ]
    },
    {
      "cell_type": "code",
      "execution_count": 11,
      "metadata": {},
      "outputs": [],
      "source": [
        "list3 = list(range(11,19))"
      ]
    },
    {
      "cell_type": "code",
      "execution_count": 13,
      "metadata": {},
      "outputs": [
        {
          "data": {
            "text/plain": [
              "8"
            ]
          },
          "execution_count": 13,
          "metadata": {},
          "output_type": "execute_result"
        }
      ],
      "source": [
        "#zip introduction \n",
        "lista_total = list(zip(list1,list2,list3))#estructura de datos tienen el mismo numero de elementos\n",
        "#len(lista_total)"
      ]
    },
    {
      "cell_type": "code",
      "execution_count": 14,
      "metadata": {},
      "outputs": [
        {
          "name": "stdout",
          "output_type": "stream",
          "text": [
            "(10, 10, 11)\n",
            "(9, 9, 12)\n",
            "(8, 8, 13)\n",
            "(7, 7, 14)\n",
            "(6, 6, 15)\n",
            "(5, 5, 16)\n",
            "(4, 4, 17)\n",
            "(3, 3, 18)\n"
          ]
        }
      ],
      "source": [
        "#Sumar los valores y guardar en lista \n",
        "for item1 in lista_total:\n",
        "    print(item1)\n",
        "    "
      ]
    },
    {
      "cell_type": "code",
      "execution_count": 18,
      "metadata": {},
      "outputs": [
        {
          "name": "stdout",
          "output_type": "stream",
          "text": [
            "[31, 30, 29, 28, 27, 26, 25, 24]\n"
          ]
        }
      ],
      "source": [
        "#Sumar los valores y guardar en lista \n",
        "container = [] #lista vacía, corchetes\n",
        "for item1 in lista_total:\n",
        "    counter = 0 \n",
        "    for item2 in item1: \n",
        "        counter = counter + item2 \n",
        "    container.append(counter)#agregar el valor de counter a la lista container\n",
        "print(container)\n"
      ]
    },
    {
      "cell_type": "code",
      "execution_count": 20,
      "metadata": {},
      "outputs": [],
      "source": [
        "#Matriz de 3x3\n",
        "matrix = [\n",
        "    [1,2,3],\n",
        "    [4,5,6],\n",
        "    [7,8,9]\n",
        "]\n"
      ]
    },
    {
      "cell_type": "code",
      "execution_count": 22,
      "metadata": {},
      "outputs": [
        {
          "data": {
            "text/plain": [
              "[[2, 3, 4], [5, 6, 7], [8, 9, 10]]"
            ]
          },
          "execution_count": 22,
          "metadata": {},
          "output_type": "execute_result"
        }
      ],
      "source": [
        "#Sumar 1 a cada elemento de la matriz\n",
        "matrix2_1 = []\n",
        "for row in matrix :\n",
        "    matrix2_2 = []\n",
        "    for col in row:\n",
        "        col = col + 1 \n",
        "        matrix2_2.append(col)\n",
        "    matrix2_1.append(matrix2_2)\n",
        "matrix2_1"
      ]
    },
    {
      "cell_type": "code",
      "execution_count": 25,
      "metadata": {},
      "outputs": [
        {
          "data": {
            "text/plain": [
              "array([[ 2,  3,  4],\n",
              "       [ 5,  6,  7],\n",
              "       [ 8,  9, 10]])"
            ]
          },
          "execution_count": 25,
          "metadata": {},
          "output_type": "execute_result"
        }
      ],
      "source": [
        "import numpy as np\n",
        "np.array(matrix)+1"
      ]
    },
    {
      "cell_type": "markdown",
      "metadata": {
        "id": "hpHCl0-F2Cbk"
      },
      "source": [
        "<img src=\"https://i0.wp.com/ajaytech.co/wp-content/uploads/2019/05/python-3rd-party-libraries.png\" width=50%>\n",
        "\n",
        "<img src=\"https://blueskyproject.io/_assets/scipy-ecosystem.png\" width=50%>\n"
      ]
    },
    {
      "cell_type": "markdown",
      "metadata": {
        "id": "ltXwjNlzKAVs"
      },
      "source": [
        "## **1. Librerias en Python**\n",
        "\n",
        "\n",
        "En Python, las bibliotecas (también conocidas como módulos o paquetes) son colecciones de código predefinido que se pueden utilizar para realizar tareas específicas sin tener que escribir todo el código desde cero. Las bibliotecas proporcionan funciones y métodos predefinidos que pueden importarse y utilizarse en su propio código.\n",
        "\n",
        "Python tiene una gran cantidad de bibliotecas disponibles, que van desde bibliotecas de ciencia de datos y aprendizaje automático hasta bibliotecas de GUI y herramientas de desarrollo web. Algunas bibliotecas populares en Python incluyen:\n",
        "\n",
        "- NumPy: biblioteca para computación numérica y matricial en Python.\n",
        "\n",
        "- Pandas: biblioteca para el análisis y manipulación de datos en Python.\n",
        "\n",
        "- Matplotlib: biblioteca para la creación de gráficos y visualizaciones de datos en Python.\n",
        "\n",
        "- TensorFlow: biblioteca de aprendizaje automático de código abierto desarrollada por Google.\n",
        "\n",
        "- Django: framework de desarrollo web de Python para crear aplicaciones web escalables y seguras.\n",
        "\n",
        "Para utilizar una biblioteca en su código, debe importarla al comienzo de su archivo Python. Por ejemplo, para utilizar la biblioteca NumPy en su código, puede agregar el siguiente código al principio de su archivo Python:\n",
        "\n",
        "\n",
        "```python\n",
        "import numpy as np\n",
        "```\n",
        "\n",
        "Esto importa la biblioteca NumPy y la renombra como \"np\", lo que significa que puede acceder a las funciones y métodos de NumPy utilizando el prefijo \"np.\" en su código.\n",
        "\n",
        "En resumen, las bibliotecas en Python son colecciones de código predefinido que se pueden utilizar para realizar tareas específicas en su propio código, y son una de las razones por las cuales Python es un lenguaje de programación popular y poderoso.\n",
        "\n",
        "\n",
        "\n",
        "\n"
      ]
    },
    {
      "cell_type": "code",
      "execution_count": 33,
      "metadata": {
        "id": "6B99oOxpMiGP"
      },
      "outputs": [
        {
          "data": {
            "text/plain": [
              "array([55.+0.00000000e+00j, -5.+1.53884177e+01j, -5.+6.88190960e+00j,\n",
              "       -5.+3.63271264e+00j, -5.+1.62459848e+00j, -5.-1.33226763e-15j,\n",
              "       -5.-1.62459848e+00j, -5.-3.63271264e+00j, -5.-6.88190960e+00j,\n",
              "       -5.-1.53884177e+01j])"
            ]
          },
          "execution_count": 33,
          "metadata": {},
          "output_type": "execute_result"
        }
      ],
      "source": [
        "import numpy as np \n",
        "from numpy.fft import fft as fourier \n",
        "fourier(np.array([1,2,3,4,5,6,7,8,9,10]))\n"
      ]
    },
    {
      "cell_type": "code",
      "execution_count": null,
      "metadata": {},
      "outputs": [],
      "source": [
        "#import numpy as np\n",
        "#from writting.books import write as "
      ]
    },
    {
      "cell_type": "markdown",
      "metadata": {
        "id": "v1vtt_BRNSPJ"
      },
      "source": [
        "## **2. Libreria - requests**\n",
        "\n",
        "La biblioteca requests en Python es una de las bibliotecas más populares para hacer solicitudes HTTP y HTTPS en Python y descargar datos de Internet. Esta biblioteca proporciona una interfaz fácil de usar para trabajar con solicitudes web y datos de respuesta.\n",
        "\n",
        "Para utilizar requests, primero debe importar la biblioteca en su archivo Python:\n",
        "\n",
        "```python\n",
        "import requests\n",
        "```\n",
        "\n",
        "Una vez que haya importado la biblioteca, puede usar su función principal, requests.get(url), para hacer una solicitud HTTP GET y obtener los datos de la respuesta. La función requests.get() toma la URL a la que desea hacer la solicitud como su único argumento y devuelve un objeto de respuesta de Python.\n",
        "\n",
        "Por ejemplo, para descargar el contenido de una página web, puede hacer lo siguiente:\n",
        "\n",
        "```python\n",
        "import requests\n",
        "\n",
        "url = 'https://www.example.com'\n",
        "response = requests.get(url)\n",
        "content = response.content\n",
        "print(content)\n",
        "```\n",
        "\n",
        "En este ejemplo, la variable url contiene la URL de la página web que desea descargar, y la función requests.get() se utiliza para hacer la solicitud y obtener la respuesta. La variable response contiene el objeto de respuesta de Python, y la variable content contiene el contenido de la respuesta en formato de bytes.\n",
        "\n",
        "Además de la función requests.get(), la biblioteca requests también proporciona otras funciones útiles para hacer solicitudes HTTP, como requests.post() para hacer solicitudes POST, requests.put() para hacer solicitudes PUT y requests.delete() para hacer solicitudes DELETE.\n",
        "\n",
        "En resumen, la biblioteca requests en Python es una biblioteca popular y fácil de usar para hacer solicitudes HTTP y descargar datos de Internet. Es una herramienta esencial para la mayoría de las aplicaciones de Python que necesitan interactuar con servidores web y servicios de terceros en línea.\n",
        "\n",
        "\n",
        "\n"
      ]
    },
    {
      "cell_type": "code",
      "execution_count": 2,
      "metadata": {},
      "outputs": [],
      "source": [
        "import requests\n",
        "url = \"https://github.com/rspatial/terra/blob/master/inst/ex/elev.tif\""
      ]
    },
    {
      "cell_type": "code",
      "execution_count": 38,
      "metadata": {},
      "outputs": [],
      "source": [
        "#download the file \n",
        "r = requests.get(url)"
      ]
    },
    {
      "cell_type": "code",
      "execution_count": 40,
      "metadata": {},
      "outputs": [
        {
          "data": {
            "text/plain": [
              "139648"
            ]
          },
          "execution_count": 40,
          "metadata": {},
          "output_type": "execute_result"
        }
      ],
      "source": [
        "#write the file\n",
        "open(\"terrain.tif\",\"wb\").write(r.content)"
      ]
    },
    {
      "cell_type": "code",
      "execution_count": null,
      "metadata": {},
      "outputs": [],
      "source": [
        "#read the file \n",
        "open(\"terrain.tif\",\"rb\").read()"
      ]
    },
    {
      "cell_type": "code",
      "execution_count": 41,
      "metadata": {},
      "outputs": [
        {
          "data": {
            "text/plain": [
              "<bound method Response.close of <Response [200]>>"
            ]
          },
          "execution_count": 41,
          "metadata": {},
          "output_type": "execute_result"
        }
      ],
      "source": [
        "r.close"
      ]
    },
    {
      "cell_type": "code",
      "execution_count": 4,
      "metadata": {},
      "outputs": [],
      "source": [
        "def download_data(url,output_name):\n",
        "    with requests.get(url) as scrc1:#cierra de la conexión \n",
        "        with open(\"elev.tif\",\"wb\") as dst:#Guardado en elevation \n",
        "            dst.write(scrc1.content)\n",
        "        return True"
      ]
    },
    {
      "cell_type": "code",
      "execution_count": null,
      "metadata": {},
      "outputs": [],
      "source": [
        "url =  \"https://github.com/rspatial/terra/blob/master/inst/ex/elev.tif\"\n",
        "output_name = \"D:/Fernando/EARTH_OBS/clase_02/dem01.tif\""
      ]
    },
    {
      "cell_type": "code",
      "execution_count": null,
      "metadata": {},
      "outputs": [],
      "source": [
        "download_data(url,output_name)"
      ]
    },
    {
      "cell_type": "code",
      "execution_count": 5,
      "metadata": {},
      "outputs": [],
      "source": [
        "#Automatizar la descarga de datos \n",
        "url =  \"https://github.com/rspatial/terra/blob/master/inst/ex/elev.tif\"\n",
        "output_name = \"D:/Fernando/EARTH_OBS/clase_02/dem01.tif\"\n",
        "for u, name in zip(url,output_name):\n",
        "    download_data(url,name)"
      ]
    },
    {
      "attachments": {},
      "cell_type": "markdown",
      "metadata": {
        "id": "X9GEqRw7LPGT"
      },
      "source": [
        "## **2. Libreria - pathlib**\n",
        "\n",
        "La biblioteca pathlib en Python proporciona una manera fácil y elegante de trabajar con rutas de archivos y directorios en diferentes sistemas operativos. La biblioteca pathlib se introdujo en Python 3.4 y ofrece una interfaz de programación de aplicaciones (API) orientada a objetos para manejar rutas de archivo.\n",
        "\n",
        "En lugar de trabajar con cadenas de texto para rutas de archivos, pathlib proporciona clases como Path, PurePath, WindowsPath y PosixPath, que representan rutas de archivo como objetos en lugar de cadenas. Estas clases contienen métodos útiles para trabajar con rutas de archivos, como la verificación de si un archivo o directorio existe, la obtención de la ruta absoluta, la obtención de la extensión del archivo y la navegación por los directorios.\n",
        "\n",
        "Algunos de los métodos útiles proporcionados por pathlib incluyen:\n",
        "\n",
        "- exists(): verifica si el archivo o directorio existe.\n",
        "\n",
        "- is_file(): verifica si la ruta es un archivo.\n",
        "\n",
        "- is_dir(): verifica si la ruta es un directorio.\n",
        "\n",
        "- mkdir(): crea un nuevo directorio en la ruta especificada.\n",
        "\n",
        "- unlink(): elimina el archivo en la ruta especificada.\n",
        "\n",
        "- rename(): cambia el nombre del archivo o directorio en la ruta especificada.\n",
        "\n",
        "- glob(): encuentra todas las coincidencias de archivos que coinciden con un patrón específico en la ruta especificada.\n",
        "\n",
        "Para utilizar pathlib, es necesario importar la clase Path y crear una instancia de ella con la ruta de archivo o directorio deseada:\n",
        "\n",
        "```python\n",
        "import pathlib\n",
        "\n",
        "ruta = pathlib.Path(\"ruta/a/archivo.txt\")\n",
        "```\n"
      ]
    },
    {
      "cell_type": "code",
      "execution_count": 9,
      "metadata": {},
      "outputs": [],
      "source": [
        "import pathlib"
      ]
    },
    {
      "cell_type": "code",
      "execution_count": 10,
      "metadata": {
        "id": "lXoAbGnpLIeo"
      },
      "outputs": [
        {
          "data": {
            "text/plain": [
              "True"
            ]
          },
          "execution_count": 10,
          "metadata": {},
          "output_type": "execute_result"
        }
      ],
      "source": [
        "path01 = pathlib.Path(\n",
        "    \"D:/Fernando/EARTH_OBS/clase_02/terrain.tif\"\n",
        ")\n",
        "path01.exists()"
      ]
    },
    {
      "cell_type": "code",
      "execution_count": 12,
      "metadata": {},
      "outputs": [
        {
          "data": {
            "text/plain": [
              "WindowsPath('D:/Fernando/EARTH_OBS')"
            ]
          },
          "execution_count": 12,
          "metadata": {},
          "output_type": "execute_result"
        }
      ],
      "source": [
        "#obtain the directory \n",
        "path01.parent.parent"
      ]
    },
    {
      "cell_type": "code",
      "execution_count": 13,
      "metadata": {},
      "outputs": [],
      "source": [
        "(path01.parent / \"new_dir\").mkdir()"
      ]
    },
    {
      "cell_type": "code",
      "execution_count": 15,
      "metadata": {},
      "outputs": [
        {
          "data": {
            "text/plain": [
              "True"
            ]
          },
          "execution_count": 15,
          "metadata": {},
          "output_type": "execute_result"
        }
      ],
      "source": [
        "path01.exists()"
      ]
    },
    {
      "cell_type": "code",
      "execution_count": 16,
      "metadata": {},
      "outputs": [],
      "source": [
        "#Generar 100 carpetas\n",
        "foldernames = list(range(100))#Números del 0 al 99\n",
        "for foldername in foldernames: \n",
        "    (path01.parent / (\"new_dir\"+str(foldername))).mkdir(esist_ok=True)"
      ]
    },
    {
      "cell_type": "markdown",
      "metadata": {
        "id": "hRdO2k8nMpLj"
      },
      "source": [
        "## **3. Libreria - re**\n",
        "\n",
        "La biblioteca re en Python proporciona herramientas para trabajar con expresiones regulares, que son patrones de búsqueda y manipulación de texto. La biblioteca re permite buscar y reemplazar patrones en cadenas de texto, validar entradas de usuario y procesar datos de texto de manera eficiente.\n",
        "\n",
        "Para utilizar la biblioteca re, primero debe importarla en su archivo Python:\n",
        "\n",
        "```python\n",
        "import re\n",
        "```\n",
        "\n",
        "A continuación, se muestran algunos de los métodos más famosos de la biblioteca re en Python, junto con ejemplos:\n",
        "\n",
        "- **re.search(patron, cadena)**: Este método busca el patrón en la cadena y devuelve un objeto de coincidencia si se encuentra el patrón. Si el patrón no se encuentra, devuelve None.\n",
        "\n",
        "\n",
        "```python\n",
        "import re\n",
        "\n",
        "cadena = \"La biblioteca 're' en Python proporciona herramientas para trabajar con expresiones regulares\"\n",
        "patron = \"Python\"\n",
        "\n",
        "resultado = re.search(patron, cadena)\n",
        "\n",
        "if resultado:\n",
        "    print(\"Patrón encontrado en la posición:\", resultado.start())\n",
        "else:\n",
        "    print(\"Patrón no encontrado\")\n",
        "```\n",
        "\n",
        "En este ejemplo, se busca el patrón \"Python\" en la cadena y se imprime la posición de la primera coincidencia encontrada.\n",
        "\n",
        "- **re.findall(patron, cadena)**: Este método busca todas las ocurrencias del patrón en la cadena y devuelve una lista con todas las coincidencias.\n",
        "\n",
        "```python\n",
        "import re\n",
        "\n",
        "cadena = \"La biblioteca 're' en Python proporciona herramientas para trabajar con expresiones regulares\"\n",
        "patron = \"biblioteca|Python\"\n",
        "\n",
        "resultado = re.findall(patron, cadena)\n",
        "\n",
        "print(resultado)\n",
        "```\n",
        "\n",
        "En este ejemplo, se busca cualquier coincidencia del patrón \"biblioteca\" o \"Python\" en la cadena y se imprime una lista con todas las coincidencias encontradas.\n",
        "\n",
        "- **re.sub(patron, reemplazo, cadena)**: Este método busca todas las ocurrencias del patrón en la cadena y las reemplaza con la cadena de reemplazo.\n",
        "\n",
        "```python\n",
        "\n",
        "import re\n",
        "\n",
        "cadena = \"La biblioteca 're' en Python proporciona herramientas para trabajar con expresiones regulares\"\n",
        "patron = \"Python\"\n",
        "reemplazo = \"JavaScript\"\n",
        "\n",
        "resultado = re.sub(patron, reemplazo, cadena)\n",
        "\n",
        "print(resultado)\n",
        "```\n",
        "\n",
        "En este ejemplo, se busca el patrón \"Python\" en la cadena y se reemplaza con \"JavaScript\".\n",
        "\n",
        "- **re.split(separador, cadena)**: Este método divide la cadena en una lista utilizando el separador especificado.\n",
        "\n",
        "```python\n",
        "import re\n",
        "\n",
        "cadena = \"La biblioteca 're' en Python proporciona herramientas para trabajar con expresiones regulares\"\n",
        "separador = \" \"\n",
        "\n",
        "resultado = re.split(separador, cadena)\n",
        "\n",
        "print(resultado)\n",
        "```\n",
        "\n",
        "En este ejemplo, la cadena se divide en una lista utilizando el separador \" \" (espacio en blanco). El resultado es una lista de palabras en la cadena.\n",
        "\n",
        "\n",
        "\n",
        "\n",
        "\n",
        "\n",
        "\n"
      ]
    },
    {
      "cell_type": "code",
      "execution_count": null,
      "metadata": {
        "id": "KiGllEzSLJkE"
      },
      "outputs": [],
      "source": []
    },
    {
      "cell_type": "markdown",
      "metadata": {
        "id": "SCemTSkIi9Eg"
      },
      "source": [
        "**1. Funciones en Python**\n",
        "\n",
        "En Python, una función es un bloque de código que se define una vez y se puede reutilizar varias veces. Las funciones en Python se definen utilizando la palabra clave \"def\", seguida del nombre de la función y los parámetros de entrada entre paréntesis.\n",
        "\n",
        "Por ejemplo, aquí hay una función simple que toma dos números como entrada y devuelve la suma de esos dos números:\n",
        "\n",
        "```python\n",
        "def suma(a, b):\n",
        "    return a + b\n",
        "```\n"
      ]
    },
    {
      "cell_type": "markdown",
      "metadata": {
        "id": "Q9tWtYavSGJy"
      },
      "source": [
        "## **4. Libreria - rasterio**\n",
        "\n",
        "*rasterio* es una biblioteca de Python que se utiliza para trabajar con datos geoespaciales en formato raster. Permite leer, escribir y manipular rásteres en formatos populares como GeoTIFF y otros formatos comunes utilizados en sistemas de información geográfica.\n",
        "\n",
        "Entre las características principales de rasterio se incluyen:\n",
        "\n",
        "- Lectura y escritura de datos raster en formatos populares.\n",
        "\n",
        "- Acceso a metadatos como información de proyección, tamaño de píxel y coordenadas de georreferencia.\n",
        "\n",
        "- Manipulación de datos raster utilizando operaciones como recorte, reproyección y operaciones aritméticas.\n",
        "\n",
        "- Visualización de datos raster utilizando herramientas integradas o mediante la integración con bibliotecas externas de visualización de datos.\n",
        "\n",
        "En general, rasterio se utiliza comúnmente en aplicaciones de análisis geoespacial, modelado ambiental y ciencias ambientales para manipular y analizar datos raster, como imágenes satelitales y mapas topográficos.\n",
        "\n",
        "\n",
        "```python\n",
        "import rasterio\n",
        "\n",
        "# Abre el archivo GeoTIFF\n",
        "with rasterio.open('ruta/al/archivo.tif') as src:\n",
        "    # Accede a la matriz de píxeles\n",
        "    data = src.read()\n",
        "    # Accede a la información de proyección\n",
        "    crs = src.crs\n",
        "    # Accede a la información de georreferencia\n",
        "    transform = src.transform\n",
        "    # Accede a la información de tamaño de píxel\n",
        "    pixel_size = src.res\n",
        "\n",
        "```"
      ]
    },
    {
      "cell_type": "code",
      "execution_count": null,
      "metadata": {
        "id": "Hw2uLidTJ_VT"
      },
      "outputs": [],
      "source": []
    },
    {
      "cell_type": "markdown",
      "metadata": {
        "id": "gOi0GWMlUyuy"
      },
      "source": [
        "### **5. Funciones en Python**\n",
        "\n",
        "En Python, una función es un bloque de código que realiza una tarea específica y se puede llamar desde otros lugares del programa para realizar esa tarea sin tener que volver a escribir el mismo código una y otra vez. Las funciones son una herramienta fundamental para escribir código modular y reutilizable.\n",
        "\n",
        "La sintaxis para definir una función en Python es la siguiente:\n",
        "\n",
        "\n",
        "```python\n",
        "def nombre_de_la_funcion(parametro1, parametro2, ...):\n",
        "    # Cuerpo de la función\n",
        "    # Realiza la tarea de la función utilizando los parámetros\n",
        "    # Devuelve un resultado (opcional)\n",
        "```\n",
        "\n",
        "Donde nombre_de_la_funcion es el nombre que se le da a la función, parametro1, parametro2, ... son los parámetros que la función acepta como entrada y el cuerpo de la función es el conjunto de instrucciones que realiza la tarea que se desea.\n",
        "\n",
        "Por ejemplo, aquí hay una función simple que toma dos números como entrada y devuelve su suma:\n",
        "\n",
        "```python\n",
        "def sumar(a, b):\n",
        "    resultado = a + b\n",
        "    return resultado\n",
        "```\n",
        "\n",
        "La función sumar toma dos parámetros, a y b, y devuelve su suma mediante la instrucción return. La función se puede llamar desde otros lugares del programa, pasando los parámetros deseados y utilizando el valor devuelto de la siguiente manera:\n",
        "\n",
        "```python\n",
        "resultado = sumar(2, 3)\n",
        "print(resultado)  # Imprime 5\n",
        "\n",
        "```"
      ]
    },
    {
      "cell_type": "code",
      "execution_count": 26,
      "metadata": {
        "id": "5DTWRJ88U5UF"
      },
      "outputs": [],
      "source": [
        "def add_one_matrix(matrix):#argumento matrix de la función add_one_matrix \n",
        "    matrix2_1 = []\n",
        "    for row in matrix :\n",
        "        matrix2_2 = []\n",
        "        for col in row:\n",
        "            col = col + 1 \n",
        "            matrix2_2.append(col)\n",
        "        matrix2_1.append(matrix2_2)\n",
        "    return matrix2_1\n",
        "\n"
      ]
    },
    {
      "cell_type": "code",
      "execution_count": 30,
      "metadata": {},
      "outputs": [],
      "source": [
        "matrix = [[4,5,6],[7,8,9],[10,11,12]]"
      ]
    },
    {
      "cell_type": "code",
      "execution_count": 32,
      "metadata": {},
      "outputs": [
        {
          "data": {
            "text/plain": [
              "[[5, 6, 7], [8, 9, 10], [11, 12, 13]]"
            ]
          },
          "execution_count": 32,
          "metadata": {},
          "output_type": "execute_result"
        }
      ],
      "source": [
        "add_one_matrix(matrix)"
      ]
    },
    {
      "attachments": {},
      "cell_type": "markdown",
      "metadata": {},
      "source": [
        "1. Buscar en los servidores de la USGS \n",
        "2. Alertar variación de la cobertura forestal \n",
        "3. Calcular el NDVI en la zona identificada "
      ]
    },
    {
      "cell_type": "code",
      "execution_count": null,
      "metadata": {},
      "outputs": [],
      "source": [
        "#def suma(a,b):"
      ]
    },
    {
      "attachments": {},
      "cell_type": "markdown",
      "metadata": {},
      "source": [
        "Acceder a paquete de terceros "
      ]
    },
    {
      "cell_type": "markdown",
      "metadata": {
        "id": "dyth3UHTW9uz"
      },
      "source": [
        "# **Next classs**"
      ]
    },
    {
      "cell_type": "markdown",
      "metadata": {
        "id": "kJRIPqUPi854"
      },
      "source": [
        "### **6. Clases en Python**\n",
        "\n",
        "En Python, una clase es una estructura que define un conjunto de propiedades y métodos que se utilizan para crear objetos. En otras palabras, una clase es una plantilla que define la estructura y el comportamiento de un objeto.\n",
        "\n",
        "La sintaxis para definir una clase en Python es la siguiente:\n",
        "\n",
        "```python\n",
        "class NombreDeLaClase:\n",
        "    # Atributos de clase\n",
        "    atributo1 = valor1\n",
        "    atributo2 = valor2\n",
        "    \n",
        "    # Métodos de instancia\n",
        "    def nombre_del_metodo(self, parametro1, parametro2, ...):\n",
        "        # Cuerpo del método\n",
        "        # Realiza la tarea del método utilizando los parámetros\n",
        "        # Devuelve un resultado (opcional)\n",
        "```\n",
        "\n",
        "Donde NombreDeLaClase es el nombre que se le da a la clase, atributo1, atributo2, ... son los atributos de clase que la clase posee y nombre_del_metodo es el nombre de uno de los métodos de instancia que la clase define. Los métodos de instancia son funciones que operan en objetos de la clase y aceptan el parámetro self como primera entrada, que hace referencia al objeto en sí mismo.\n",
        "\n",
        "Por ejemplo, aquí hay una clase simple que define un objeto Persona con dos atributos (nombre y edad) y dos métodos (saludar y cumplir_anos):\n",
        "\n",
        "```python\n",
        "class Persona:\n",
        "    def __init__(self, nombre, edad):\n",
        "        self.nombre = nombre\n",
        "        self.edad = edad\n",
        "    \n",
        "    def saludar(self):\n",
        "        print(f\"Hola, mi nombre es {self.nombre} y tengo {self.edad} años.\")\n",
        "    \n",
        "    def cumplir_anos(self):\n",
        "        self.edad += 1\n",
        "```\n",
        "\n",
        "La clase Persona tiene dos atributos (nombre y edad) y dos métodos (saludar y cumplir_anos). El método __init__ es un método especial que se llama cuando se crea un objeto de la clase y se utiliza para inicializar sus atributos. El método saludar imprime un mensaje de saludo personalizado utilizando los atributos de la persona, y el método cumplir_anos aumenta la edad en uno.\n",
        "\n",
        "Para crear un objeto Persona, se puede instanciar la clase utilizando la siguiente sintaxis:\n",
        "\n",
        "```python\n",
        "persona1 = Persona(\"Juan\", 30)\n",
        "```\n",
        "\n",
        "Este código crea un objeto Persona con el nombre \"Juan\" y la edad 30, y lo asigna a la variable persona1. Para llamar a los métodos de la clase y acceder a sus atributos, se utiliza la sintaxis de punto:\n",
        "\n",
        "```python\n",
        "persona1.saludar()   # Imprime \"Hola, mi nombre es Juan y tengo 30 años.\"\n",
        "persona1.cumplir_anos()\n",
        "print(persona1.edad)  # Imprime 31\n",
        "```\n",
        "\n",
        "En este ejemplo, se llama al método saludar del objeto persona1, que imprime un mensaje de saludo personalizado utilizando los atributos de la persona. Luego se llama al método cumplir_anos, que aumenta la edad del objeto en uno. Finalmente, se imprime el valor actualizado del atributo edad del objeto.\n"
      ]
    },
    {
      "cell_type": "code",
      "execution_count": null,
      "metadata": {
        "id": "S4zPzLpRbDCg"
      },
      "outputs": [],
      "source": []
    },
    {
      "cell_type": "markdown",
      "metadata": {
        "id": "3AQzYYpqjFn8"
      },
      "source": [
        "### **7. Generadores**\n",
        "\n",
        "En Python, un generador es una función que devuelve un objeto generador que puede producir una serie de valores. En lugar de devolver una lista de valores, como lo hace una función normal, un generador produce un valor a la vez, lo que significa que solo genera el valor necesario en el momento en que se necesita. Los generadores se implementan utilizando la palabra clave yield, que devuelve un valor y pausa la ejecución de la función. Cuando se llama al generador nuevamente, la función se reanuda desde donde se detuvo, lo que le permite producir el siguiente valor de la secuencia.\n",
        "\n",
        "La ventaja de utilizar generadores es que son más eficientes en términos de memoria y tiempo de procesamiento, ya que no tienen que crear y almacenar una lista completa de valores antes de devolverlos. En su lugar, pueden generar valores sobre la marcha, lo que es especialmente útil para manejar grandes conjuntos de datos o iteraciones infinitas.\n",
        "\n",
        "Por ejemplo, la siguiente función genera los primeros n números pares:\n",
        "\n",
        "\n",
        "```python\n",
        "def generador_pares(n):\n",
        "    for i in range(n):\n",
        "        if i % 2 == 0:\n",
        "            yield i\n",
        "\n",
        "# Usando el generador en un ciclo for\n",
        "for numero in generador_pares(10):\n",
        "    print(numero)\n",
        "```\n",
        "\n",
        "En este ejemplo, la función generador_pares es un generador que produce los primeros n números pares en la secuencia. Dentro de la función, se utiliza un ciclo for para iterar desde 0 hasta n, y se utiliza una sentencia if para verificar si el número actual es par. Si el número es par, se utiliza la palabra clave yield para producir el número y pausar la función.\n",
        "\n",
        "Luego, fuera de la función, se utiliza un ciclo for para recorrer los valores producidos por el generador y se imprime cada número en una línea separada. En este ejemplo, el resultado sería:\n",
        "\n",
        "```python\n",
        "0\n",
        "2\n",
        "4\n",
        "6\n",
        "8\n",
        "```\n",
        "\n",
        "Como puedes ver, el generador produce solo los números pares en la secuencia y solo produce un número a la vez cuando se llama. Esto hace que el código sea más eficiente en términos de memoria y tiempo de procesamiento, ya que no tiene que generar todos los valores de la secuencia de una sola vez.\n",
        "\n",
        "\n"
      ]
    },
    {
      "cell_type": "code",
      "execution_count": null,
      "metadata": {
        "id": "5j8-yLz5c3b7"
      },
      "outputs": [],
      "source": []
    },
    {
      "cell_type": "markdown",
      "metadata": {
        "id": "KE1BZqw9hAvs"
      },
      "source": [
        "### **8. Iteradores**\n",
        "\n",
        "En Python, un iterador es un objeto que permite recorrer una colección de elementos uno por uno. La mayoría de las estructuras de datos en Python, como las listas, los diccionarios y las tuplas, son iterables, lo que significa que se pueden recorrer con un iterador.\n",
        "\n",
        "Un iterador se define mediante dos métodos: `__iter__()` y `__next__()`. El método `__iter__()` devuelve el propio objeto iterador y el método `__next__()` devuelve el siguiente elemento de la colección. Cuando se llega al final de la colección, el método `__next__()` debe lanzar una excepción `StopIteration`.\n",
        "\n",
        "Por ejemplo, se puede crear un iterador para recorrer los elementos de una lista de la siguiente manera:\n",
        "\n",
        "```python\n",
        "lista = [1, 2, 3, 4, 5]\n",
        "\n",
        "iterador = iter(lista)\n",
        "\n",
        "print(next(iterador))  # imprime 1\n",
        "print(next(iterador))  # imprime 2\n",
        "print(next(iterador))  # imprime 3\n",
        "```\n",
        "\n",
        "En este ejemplo, se crea un objeto iterador utilizando la función iter(), que toma como argumento la lista que se desea recorrer. Luego, se utiliza la función next() para obtener el siguiente elemento del iterador. Cada vez que se llama a la función next(), el iterador avanza al siguiente elemento en la lista.\n",
        "\n",
        "Los iteradores también se pueden utilizar con un ciclo for para recorrer la colección completa de forma más sencilla:\n",
        "\n",
        "```python\n",
        "lista = [1, 2, 3, 4, 5]\n",
        "\n",
        "for elemento in lista:\n",
        "    print(elemento)\n",
        "```\n",
        "\n",
        "En este ejemplo, el ciclo for utiliza un iterador para recorrer todos los elementos de la lista y se imprime cada elemento en una línea separada.\n",
        "\n",
        "Los iteradores son una herramienta útil para trabajar con grandes conjuntos de datos o colecciones infinitas, ya que permiten recorrer los elementos uno por uno sin tener que cargar la colección completa en la memoria al mismo tiempo.\n",
        "\n",
        "\n",
        "\n"
      ]
    },
    {
      "cell_type": "code",
      "execution_count": null,
      "metadata": {
        "id": "yFC27_rEhrb8"
      },
      "outputs": [],
      "source": []
    },
    {
      "cell_type": "markdown",
      "metadata": {
        "id": "HC5cPzMxgo3N"
      },
      "source": [
        "### **9. Python packages**\n",
        "\n",
        "1. Crear un nuevo directorio que será el paquete y darle un nombre descriptivo.\n",
        "Dentro del directorio, crear un archivo **__init__.py**, que es un archivo especial que indica que el directorio es un paquete de Python.\n",
        "\n",
        "2. Crear un archivo con el nombre de la función o clase que se desea publicar y agregar la definición de la función/clase en él.\n",
        "\n",
        "3. Opcionalmente, se pueden agregar ejemplos de uso de la clase en la parte inferior del archivo para ayudar a los usuarios a comprender cómo utilizarla utilizando __main__.\n",
        "\n",
        "<img src=\"https://scaler-topics-articles-md.s3.us-west-2.amazonaws.com/python-packages-writing-items.webp\"  width=\"50%\">\n"
      ]
    },
    {
      "cell_type": "code",
      "execution_count": null,
      "metadata": {
        "id": "JvK5Z3oidD-c"
      },
      "outputs": [],
      "source": []
    }
  ],
  "metadata": {
    "colab": {
      "provenance": []
    },
    "kernelspec": {
      "display_name": "ingeo",
      "language": "python",
      "name": "python3"
    },
    "language_info": {
      "codemirror_mode": {
        "name": "ipython",
        "version": 3
      },
      "file_extension": ".py",
      "mimetype": "text/x-python",
      "name": "python",
      "nbconvert_exporter": "python",
      "pygments_lexer": "ipython3",
      "version": "3.10.10"
    },
    "vscode": {
      "interpreter": {
        "hash": "e29ac1c820df5363dcb688f7e13da9f0b799a5116f0549274334b9363b929180"
      }
    }
  },
  "nbformat": 4,
  "nbformat_minor": 0
}
