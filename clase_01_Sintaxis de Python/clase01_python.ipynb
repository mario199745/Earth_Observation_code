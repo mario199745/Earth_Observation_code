{
  "cells": [
    {
      "cell_type": "markdown",
      "metadata": {
        "id": "f790tBssVKj8"
      },
      "source": [
        "## **Capacitación en inteligencia artificial para observación de la tierra - Básico**\n",
        "*Cesar Aybar*\n"
      ]
    },
    {
      "cell_type": "markdown",
      "metadata": {
        "id": "YgOLnQ1Gkd_v"
      },
      "source": [
        "![](https://user-images.githubusercontent.com/16768318/222958241-d9cd5b5d-64fb-4e7d-be2b-fa54ba028884.png)"
      ]
    },
    {
      "cell_type": "markdown",
      "metadata": {
        "id": "X08JJqSkcPNI"
      },
      "source": [
        "## **Historia de Python**\n",
        "\n",
        "![133913502_814876642696711_3852854957154456656_n](https://user-images.githubusercontent.com/16768318/222956555-5f6ba9e7-1dbc-4e45-951e-bb9219750dd3.jpg)"
      ]
    },
    {
      "cell_type": "markdown",
      "metadata": {
        "id": "NVlsUflrcC3c"
      },
      "source": [
        "**Compilación**:  traducir el código fuente completo.\n",
        "\n",
        "**Interpretación**:  toma una línea de código, la traduce y ejecuta de inmediato antes de pasar a la siguiente línea\n",
        "\n",
        "![diagram](https://user-images.githubusercontent.com/16768318/222956556-ec7dbc76-6335-4c4b-b7e8-25a63227a7a8.jpg)"
      ]
    },
    {
      "cell_type": "markdown",
      "metadata": {
        "id": "PLAfnYXytIBc"
      },
      "source": [
        "## **Assignments**\n",
        "\n",
        "En programación, una asignación es una instrucción que se utiliza para asignar un valor a una variable. Una variable es un espacio de memoria que se utiliza para almacenar datos durante la ejecución de un programa. Cuando se realiza una asignación, se especifica el nombre de la variable y el valor que se va a almacenar en ella."
      ]
    },
    {
      "cell_type": "code",
      "execution_count": 1,
      "metadata": {
        "colab": {
          "base_uri": "https://localhost:8080/"
        },
        "id": "Tps439ALVKWE",
        "outputId": "ea53afec-4f4f-4aa4-a3cb-4f933f247dd7"
      },
      "outputs": [
        {
          "data": {
            "text/plain": [
              "86400"
            ]
          },
          "execution_count": 1,
          "metadata": {},
          "output_type": "execute_result"
        }
      ],
      "source": [
        "seconds_in_a_day = 24 * 60 * 60\n",
        "seconds_in_a_day"
      ]
    },
    {
      "cell_type": "markdown",
      "metadata": {
        "id": "seE2idn-txGE"
      },
      "source": [
        "## **Simple math operators**\n",
        "\n",
        "Python admite los operadores aritméticos habituales: + (suma), * (multiplicación), / (división), ** (potencia), // (división entera).\n",
        "\n",
        "\n",
        "\n"
      ]
    },
    {
      "cell_type": "code",
      "execution_count": 3,
      "metadata": {
        "colab": {
          "base_uri": "https://localhost:8080/"
        },
        "id": "WZXPM6YTVIQ-",
        "outputId": "eb2afdbf-149d-487f-b1c4-46f2594f0958"
      },
      "outputs": [
        {
          "data": {
            "text/plain": [
              "1"
            ]
          },
          "execution_count": 3,
          "metadata": {},
          "output_type": "execute_result"
        }
      ],
      "source": [
        "1 * 2\n",
        "1 / 3\n",
        "2 ** 3\n",
        "4 // 3"
      ]
    },
    {
      "cell_type": "markdown",
      "metadata": {
        "id": "18TuLIyc4yb2"
      },
      "source": [
        "## **Data types**\n",
        "\n",
        "**numbers**: se pueden representar de tres formas: enteros (int), flotantes (float) y complejos (complex). Los enteros representan números enteros, los flotantes números decimales y los complejos son números que contienen una parte real y otra imaginaria.\n",
        "\n",
        "**str**: se utilizan para representar caracteres.\n",
        "\n",
        "**bool**: se utilizan para representar valores verdadero (True) o falso (False)."
      ]
    },
    {
      "cell_type": "code",
      "execution_count": null,
      "metadata": {
        "colab": {
          "base_uri": "https://localhost:8080/"
        },
        "id": "RMNKZGr543YP",
        "outputId": "9c464eeb-5745-424a-a5a4-aaf499bfe544"
      },
      "outputs": [
        {
          "data": {
            "text/plain": [
              "True"
            ]
          },
          "execution_count": 22,
          "metadata": {},
          "output_type": "execute_result"
        }
      ],
      "source": []
    },
    {
      "cell_type": "code",
      "execution_count": null,
      "metadata": {
        "colab": {
          "base_uri": "https://localhost:8080/"
        },
        "id": "xNegyQ5jbn5h",
        "outputId": "d52b792f-6cac-4ea7-acfb-1308cd1f62a7"
      },
      "outputs": [
        {
          "data": {
            "text/plain": [
              "True"
            ]
          },
          "execution_count": 23,
          "metadata": {},
          "output_type": "execute_result"
        }
      ],
      "source": []
    },
    {
      "cell_type": "markdown",
      "metadata": {
        "id": "xQ9BAkrC44uf"
      },
      "source": [
        "## **Data Structures**\n",
        "\n",
        "Nos permite estructurar los datos, nos brinda de metodos para solucionar problemas."
      ]
    },
    {
      "cell_type": "markdown",
      "metadata": {
        "id": "4No0bSWMt2E2"
      },
      "source": [
        "### **Lists**\n",
        "\n",
        "Una lista en Python es una estructura de datos que se utiliza para almacenar una colección ordenada de elementos. Cada elemento en una lista puede ser de cualquier tipo de datos, como números, cadenas, booleanos, objetos, entre otros.\n",
        "\n",
        "- append(item): agrega un elemento al final de la lista.\n",
        "\n",
        "- extend(iterable): agrega los elementos de un iterable (como otra lista) al final de la lista.\n",
        "\n",
        "- insert(index, item): inserta un elemento en la posición especificada en la lista.\n",
        "\n",
        "- remove(item): elimina la primera ocurrencia del elemento especificado en la lista.\n",
        "\n",
        "- pop(index): elimina y devuelve el elemento en la posición especificada en la lista, o el último elemento si no se proporciona un índice.\n",
        "\n",
        "- index(item): devuelve el índice de la primera ocurrencia del elemento especificado en la lista.\n",
        "\n",
        "- count(item): cuenta el número de veces que aparece el elemento especificado en la lista.\n",
        "\n",
        "- sort(): ordena los elementos de la lista en orden ascendente.\n",
        "\n",
        "- reverse(): invierte el orden de los elementos en la lista.\n",
        "\n",
        "- copy(): devuelve una copia superficial (shallow copy) de la lista.\n",
        "\n",
        "```python\n",
        "# Crear una lista de frutas\n",
        "frutas = ['manzana', 'banana', 'naranja', 'piña']\n",
        "\n",
        "# Agregar un elemento al final de la lista\n",
        "frutas.append('mango')\n",
        "\n",
        "# Insertar un elemento en la posición 2\n",
        "frutas.insert(2, 'fresa')\n",
        "\n",
        "# Contar el número de veces que aparece 'banana'\n",
        "num_bananas = frutas.count('banana')\n",
        "\n",
        "# Ordenar la lista en orden alfabético\n",
        "frutas.sort()\n",
        "\n",
        "# Eliminar 'piña' de la lista\n",
        "frutas.remove('piña')\n",
        "\n",
        "# Imprimir la lista resultante\n",
        "print(frutas)\n",
        "```\n"
      ]
    },
    {
      "cell_type": "code",
      "execution_count": 4,
      "metadata": {
        "id": "RubY3ABOvhjg"
      },
      "outputs": [],
      "source": [
        "# Crear una lista de frutas\n",
        "frutas = ['manzana', 'banana', 'naranja', 'piña', ['a', 'b', 'c']]"
      ]
    },
    {
      "cell_type": "code",
      "execution_count": 5,
      "metadata": {
        "colab": {
          "base_uri": "https://localhost:8080/"
        },
        "id": "WOuYx251kC14",
        "outputId": "4af54cf0-f395-4451-b7e3-320c03e2d78b"
      },
      "outputs": [],
      "source": [
        "frutas[0] = \"dd\""
      ]
    },
    {
      "cell_type": "code",
      "execution_count": 6,
      "metadata": {
        "colab": {
          "base_uri": "https://localhost:8080/"
        },
        "id": "kfnUXhvceuT9",
        "outputId": "d96369fc-da20-433d-f553-002c9f0e45ba"
      },
      "outputs": [
        {
          "data": {
            "text/plain": [
              "['b', 'c']"
            ]
          },
          "execution_count": 6,
          "metadata": {},
          "output_type": "execute_result"
        }
      ],
      "source": [
        "# subsetting --- [0, 3>\n",
        "frutas[4][1:3]"
      ]
    },
    {
      "cell_type": "markdown",
      "metadata": {
        "id": "T-xZApyU5Jkx"
      },
      "source": [
        "### **Strings**\n",
        "\n",
        "En Python, un string es una cadena de caracteres que se utiliza para representar texto. Los strings se pueden definir utilizando comillas simples (' '), comillas dobles (\" \") o comillas triples (''' ''').\n",
        "\n",
        "```python\n",
        "# Crear un string\n",
        "texto = 'Hola, ¿cómo estás?'\n",
        "\n",
        "# Convertir el string a mayúsculas\n",
        "texto_mayusculas = texto.upper()\n",
        "\n",
        "# Convertir el string a minúsculas\n",
        "texto_minusculas = texto.lower()\n",
        "\n",
        "# Reemplazar una subcadena en el string\n",
        "texto_reemplazado = texto.replace('estás', 'está usted')\n",
        "\n",
        "# Separar el string en palabras\n",
        "palabras = texto.split()\n",
        "\n",
        "# Unir una lista de palabras en un string\n",
        "texto_unido = '-'.join(palabras)\n",
        "\n",
        "# Comprobar si el string comienza con 'Hola'\n",
        "empieza_con_hola = texto.startswith('Hola')\n",
        "\n",
        "# Comprobar si el string termina con '?'\n",
        "termina_con_signo_interrogacion = texto.endswith('?')\n",
        "\n",
        "# Imprimir los resultados\n",
        "print(texto_mayusculas)\n",
        "print(texto_minusculas)\n",
        "print(texto_reemplazado)\n",
        "print(palabras)\n",
        "print(texto_unido)\n",
        "print(empieza_con_hola)\n",
        "print(termina_con_signo_interrogacion)\n",
        "```\n",
        "\n",
        "\n",
        "- upper(): devuelve una copia del string original en mayúsculas.\n",
        "\n",
        "- lower(): devuelve una copia del string original en minúsculas.\n",
        "\n",
        "- capitalize(): devuelve una copia del string original con la primera letra en mayúscula.\n",
        "\n",
        "- replace(old, new): devuelve una copia del string original con todas las ocurrencias de \"old\" reemplazadas por \"new\".\n",
        "\n",
        "- strip(): devuelve una copia del string original sin espacios en blanco al inicio o al final.\n",
        "\n",
        "- split(delimiter): devuelve una lista de subcadenas, donde cada subcadena se separa por el delimitador especificado.\n",
        "\n",
        "- join(iterable): une los elementos de un iterable (como una lista) en un solo string utilizando el string original como delimitador.\n",
        "\n",
        "- startswith(prefix): devuelve True si el string original comienza con el prefijo especificado.\n",
        "\n",
        "- endswith(suffix): devuelve True si el string original termina con el sufijo especificado.\n",
        "\n",
        "- find(substring): devuelve el índice de la primera ocurrencia de la subcadena especificada en el string original, o -1 si no se encuentra."
      ]
    },
    {
      "cell_type": "code",
      "execution_count": null,
      "metadata": {
        "id": "8ZYACBR_6o0K"
      },
      "outputs": [],
      "source": [
        "palabra01 = [\"def\", \".tif\"]"
      ]
    },
    {
      "cell_type": "code",
      "execution_count": null,
      "metadata": {
        "colab": {
          "base_uri": "https://localhost:8080/",
          "height": 35
        },
        "id": "IncvNmEggKRT",
        "outputId": "4a837235-7c63-4e9b-9108-c359f602a5b7"
      },
      "outputs": [
        {
          "data": {
            "application/vnd.google.colaboratory.intrinsic+json": {
              "type": "string"
            },
            "text/plain": [
              "'def.tif'"
            ]
          },
          "execution_count": 67,
          "metadata": {},
          "output_type": "execute_result"
        }
      ],
      "source": [
        "\"\".join(palabra01)"
      ]
    },
    {
      "cell_type": "markdown",
      "metadata": {
        "id": "bTyiW8HO6Htx"
      },
      "source": [
        "## **Dictionary**\n",
        "\n",
        "En Python, un diccionario es una estructura de datos que se utiliza para almacenar pares de clave-valor. Cada elemento en un diccionario consiste en una clave única que se utiliza para acceder al valor asociado con esa clave. Las claves en un diccionario deben ser inmutables, lo que significa que no se pueden modificar después de haber sido creadas, mientras que los valores asociados pueden ser de cualquier tipo de datos.\n",
        "\n",
        "Los diccionarios en Python se definen utilizando llaves { } y los elementos se separan por comas. Cada elemento consiste en una clave y un valor separados por dos puntos (:)\n",
        "\n",
        "```python\n",
        "capitales = {\"Colombia\": \"Bogotá\", \"Argentina\": \"Buenos Aires\", \"México\": \"Ciudad de México\"}\n",
        "\n",
        "```\n",
        "\n",
        "A continuación, se presentan algunos de los métodos más comunes para trabajar con diccionarios en Python:\n",
        "\n",
        "- clear(): elimina todos los elementos del diccionario.\n",
        "\n",
        "- copy(): devuelve una copia superficial del diccionario.\n",
        "\n",
        "- get(key[, default]): devuelve el valor asociado con la clave especificada, o un valor predeterminado si la clave no existe.\n",
        "\n",
        "- items(): devuelve una lista de tuplas que contienen pares (clave, valor) para cada elemento del diccionario.\n",
        "\n",
        "- keys(): devuelve una lista de todas las claves del diccionario.\n",
        "\n",
        "- pop(key[, default]): elimina y devuelve el valor asociado con la clave especificada, o un valor predeterminado si la clave no existe.\n",
        "\n",
        "- popitem(): elimina y devuelve un par (clave, valor) aleatorio del diccionario.\n",
        "\n",
        "- setdefault(key[, default]): devuelve el valor asociado con la clave especificada, o un valor predeterminado si la clave no existe, y también lo agrega al diccionario si no existe.\n",
        "\n",
        "- update([other]): actualiza el diccionario con los pares clave-valor del diccionario o del iterable especificado.\n",
        "\n",
        "- values(): devuelve una lista de todos los valores del diccionario.\n",
        "\n",
        "\n",
        "```python\n",
        "# Crear un diccionario con algunos pares clave-valor\n",
        "diccionario = {'nombre': 'Juan', 'edad': 30, 'profesion': 'Ingeniero'}\n",
        "\n",
        "# Obtener el valor asociado con la clave 'edad'\n",
        "edad = diccionario.get('edad')\n",
        "\n",
        "# Agregar un nuevo par clave-valor\n",
        "diccionario['ciudad'] = 'Madrid'\n",
        "\n",
        "# Eliminar el par clave-valor asociado con la clave 'profesion'\n",
        "diccionario.pop('profesion')\n",
        "\n",
        "# Comprobar si el diccionario contiene la clave 'nombre'\n",
        "tiene_nombre = 'nombre' in diccionario\n",
        "\n",
        "# Obtener una lista de todas las claves del diccionario\n",
        "claves = diccionario.keys()\n",
        "\n",
        "# Obtener una lista de todos los valores del diccionario\n",
        "valores = diccionario.values()\n",
        "\n",
        "# Imprimir los resultados\n",
        "print(edad)\n",
        "print(diccionario)\n",
        "print(tiene_nombre)\n",
        "print(claves)\n",
        "print(valores)\n",
        "```"
      ]
    },
    {
      "cell_type": "code",
      "execution_count": null,
      "metadata": {
        "id": "iVkvbP4wiO9w"
      },
      "outputs": [],
      "source": [
        "# Crear un diccionario con algunos pares clave-valor\n",
        "diccionario = {'nombre': 'Juan', 'edad': 30, 'profesion': 'Ingeniero'}"
      ]
    },
    {
      "cell_type": "code",
      "execution_count": null,
      "metadata": {
        "id": "43jTkD_piQfq"
      },
      "outputs": [],
      "source": [
        "# Agregar un nuevo par clave-valor\n",
        "diccionario['ciudad'] = 'Madrid'"
      ]
    },
    {
      "cell_type": "code",
      "execution_count": null,
      "metadata": {
        "colab": {
          "base_uri": "https://localhost:8080/"
        },
        "id": "ngBa9YWxjKcd",
        "outputId": "87c55bbb-dd6e-46de-adab-1bab18dd0429"
      },
      "outputs": [
        {
          "data": {
            "text/plain": [
              "['nombre', 'edad', 'profesion']"
            ]
          },
          "execution_count": 93,
          "metadata": {},
          "output_type": "execute_result"
        }
      ],
      "source": [
        "list(diccionario.keys())"
      ]
    },
    {
      "cell_type": "markdown",
      "metadata": {
        "id": "bxDsngVG8PSn"
      },
      "source": [
        "## **Tuples**\n",
        "\n",
        "En Python, una tupla es un tipo de secuencia inmutable, similar a una lista. A diferencia de las listas, sin embargo, las tuplas no se pueden modificar después de su creación. Esto significa que una vez que se crea una tupla, no se pueden agregar, eliminar o modificar elementos individuales.\n",
        "\n",
        "Las tuplas se crean utilizando paréntesis () y pueden contener cualquier número de elementos separados por comas. Aunque las tuplas son inmutables, los elementos que contienen pueden ser de cualquier tipo de datos de Python, como números, cadenas, listas, diccionarios, otras tuplas, etc.\n",
        "\n",
        "Las tuplas son útiles en situaciones en las que se necesita una secuencia inmutable de elementos, como para representar coordenadas x e y en un plano cartesiano, o para representar información que no debe cambiarse accidentalmente, como los días de la semana o los meses del año. Además, las tuplas suelen ser más eficientes que las listas en términos de rendimiento y uso de memoria, ya que no permiten la modificación de los elementos individuales.\n",
        "\n",
        "A continuación se presentan algunos de los métodos de tupla más comunes en Python:\n",
        "\n",
        "- count(): devuelve el número de veces que aparece un elemento en la tupla.\n",
        "\n",
        "- index(): devuelve el índice de la primera aparición de un elemento en la tupla.\n",
        "\n",
        "- len(): devuelve la longitud de la tupla (es decir, el número de elementos).\n",
        "\n",
        "- max(): devuelve el valor máximo de la tupla.\n",
        "\n",
        "- min(): devuelve el valor mínimo de la tupla.\n",
        "\n",
        "- sorted(): devuelve una lista ordenada de los elementos de la tupla.\n",
        "\n",
        "\n",
        "```python \n",
        "# Crear una tupla\n",
        "tupla = (1, 2, 3, 4, 5, 6, 7, 8, 9, 10)\n",
        "\n",
        "# Utilizar el método count()\n",
        "numero_de_tres = tupla.count(3)\n",
        "print(numero_de_tres)  # Imprime 1\n",
        "\n",
        "# Utilizar el método index()\n",
        "indice_de_cuatro = tupla.index(4)\n",
        "print(indice_de_cuatro)  # Imprime 3\n",
        "\n",
        "# Utilizar el método len()\n",
        "longitud_de_tupla = len(tupla)\n",
        "print(longitud_de_tupla)  # Imprime 10\n",
        "\n",
        "# Utilizar los métodos max() y min()\n",
        "maximo = max(tupla)\n",
        "minimo = min(tupla)\n",
        "print(maximo, minimo)  # Imprime 10 1\n",
        "\n",
        "# Utilizar el método sorted()\n",
        "tupla_ordenada = sorted(tupla)\n",
        "print(tupla_ordenada)  # Imprime [1, 2, 3, 4, 5, 6, 7, 8, 9, 10]\n",
        "```"
      ]
    },
    {
      "cell_type": "code",
      "execution_count": null,
      "metadata": {
        "id": "KgeKDFov5qku"
      },
      "outputs": [],
      "source": []
    },
    {
      "cell_type": "markdown",
      "metadata": {
        "id": "m9-8YZWM8z3y"
      },
      "source": [
        "## **Conditionals**\n",
        "\n",
        "Los condicionales permiten al programa tomar diferentes acciones según el valor de una expresión booleana (verdadero o falso).\n",
        "\n",
        "El condicional más básico en Python es la instrucción **if**. Esta instrucción se utiliza para ejecutar una pieza de código si se cumple una determinada condición. La sintaxis básica de un **if** es la siguiente:\n",
        "\n",
        "```python\n",
        "if condicion:\n",
        "    # Código a ejecutar si la condición es verdadera\n",
        "```\n",
        "\n",
        "La condición es una expresión booleana que se evalúa como verdadera o falsa. Si la condición es verdadera, el código indentado que sigue a la instrucción **if** se ejecuta. Si la condición es falsa, el código indentado no se ejecuta y el programa continúa con la siguiente línea de código.\n",
        "\n",
        "A menudo, se utiliza la instrucción **else** para proporcionar una alternativa para el código que se ejecutará si la condición no se cumple. La sintaxis básica de un if-else es la siguiente:\n",
        "\n",
        "```python\n",
        "if condicion:\n",
        "    # Código a ejecutar si la condición es verdadera\n",
        "else:\n",
        "    # Código a ejecutar si la condición es falsa\n",
        "```\n",
        "\n",
        "El código indentado después de la instrucción else se ejecuta si la condición en el if no se cumple.\n",
        "\n",
        "En algunos casos, también se utiliza la instrucción **elif** (abreviatura de \"else if\") para proporcionar múltiples alternativas en una cadena de condicionales. La sintaxis básica de un if-elif-else es la siguiente:\n",
        "\n",
        "```python\n",
        "if condicion_1:\n",
        "    # Código a ejecutar si la condición 1 es verdadera\n",
        "elif condicion_2:\n",
        "    # Código a ejecutar si la condición 1 es falsa y la condición 2 es verdadera\n",
        "else:\n",
        "    # Código a ejecutar si todas las condiciones son falsas\n",
        "```\n",
        "\n",
        "Aquí, el código indentado después de la instrucción elif se ejecuta si la condición en el if no se cumple, pero la condición en el elif sí se cumple.\n",
        "\n",
        "En resumen, los condicionales en Python se utilizan para tomar decisiones en el código en función de ciertas condiciones. Los condicionales básicos son if, else y elif, y permiten al programa tomar diferentes acciones según el valor de una expresión booleana.\n",
        "\n",
        "\n",
        "\n"
      ]
    },
    {
      "cell_type": "code",
      "execution_count": null,
      "metadata": {
        "id": "5GwPn44wof2j"
      },
      "outputs": [],
      "source": [
        "# T | T = T\n",
        "# T | F = T\n",
        "# F | T = T\n",
        "# F | F = F\n",
        "\n",
        "# T & T = T\n",
        "# T & F = F\n",
        "# F & T = F\n",
        "# F & F = F"
      ]
    },
    {
      "cell_type": "code",
      "execution_count": 1,
      "metadata": {
        "colab": {
          "base_uri": "https://localhost:8080/"
        },
        "id": "TIVtAuKz_fgu",
        "outputId": "6f7eefdf-531b-4e16-d701-4e100c63a76f"
      },
      "outputs": [
        {
          "name": "stdout",
          "output_type": "stream",
          "text": [
            "hi\n"
          ]
        }
      ],
      "source": [
        "temp = 25\n",
        "if temp < 20:\n",
        "  print(\"la temperatura es menor a 20 °C\")\n",
        "  print(\"fin del programa\")\n",
        "elif (temp < 30) & (temp > 20):\n",
        "  print(\"hi\")\n",
        "else:\n",
        "  print(\"la temperatura es mayor a 20 °C\")"
      ]
    },
    {
      "cell_type": "code",
      "execution_count": null,
      "metadata": {},
      "outputs": [],
      "source": []
    },
    {
      "cell_type": "markdown",
      "metadata": {
        "id": "STICvN7H_o5T"
      },
      "source": [
        "## **Loops**\n",
        "\n",
        "Los loops (bucles) en Python son estructuras de control que se utilizan para repetir un conjunto de instrucciones varias veces. En Python, hay dos tipos de bucles: for y while.\n",
        "\n",
        "El bucle for se utiliza para iterar sobre una secuencia de elementos, como una lista, una tupla o un diccionario. La sintaxis básica de un for es la siguiente:\n",
        "\n",
        "```python\n",
        "for elemento in secuencia:\n",
        "    # Código a ejecutar en cada iteración\n",
        "```\n",
        "\n",
        "La variable **elemento** toma el valor de cada **elemento** de la **secuencia** en cada iteración del bucle. El código indentado después de la instrucción for se ejecuta una vez para cada elemento de la secuencia.\n"
      ]
    },
    {
      "cell_type": "code",
      "execution_count": null,
      "metadata": {
        "id": "6vAz__2isNsR"
      },
      "outputs": [],
      "source": []
    },
    {
      "cell_type": "code",
      "execution_count": null,
      "metadata": {
        "id": "aB0ScXw0qsgR"
      },
      "outputs": [],
      "source": [
        "suma = 0\n",
        "# 1 iteration\n",
        "suma = 0 + 1 \n",
        "# 2 iteration\n",
        "suma = 1 + 2\n",
        "# 3 iteration\n",
        "suma = 3 + 3"
      ]
    },
    {
      "cell_type": "markdown",
      "metadata": {
        "id": "fyRfYcSJAX10"
      },
      "source": [
        "### *enumarate function*\n",
        "\n",
        "**enumerate** es una función incorporada de Python que se utiliza para iterar sobre una secuencia (como una lista o una tupla) y, al mismo tiempo, mantener un contador de la posición actual en la secuencia. La sintaxis básica de **enumerate** es la siguiente:\n",
        "\n",
        "```python\n",
        "for indice, valor in enumerate(secuencia):\n",
        "    # Código a ejecutar en cada iteración\n",
        "```\n",
        "\n",
        "La función **enumerate** devuelve un objeto iterable que genera pares (indice, valor) en cada iteración. El primer elemento del par es el índice (posición) del elemento actual en la secuencia, y el segundo elemento es el valor actual de la secuencia. Por lo tanto, en cada iteración del bucle for, la variable indice toma el valor del índice actual y la variable valor toma el valor del elemento actual en la secuencia.\n",
        "\n",
        "Aquí hay un ejemplo de cómo se puede utilizar enumerate en Python:\n",
        "\n",
        "\n",
        "```python\n",
        "frutas = ['manzana', 'banana', 'kiwi', 'naranja']\n",
        "for indice, fruta in enumerate(frutas):\n",
        "    print(f'La fruta en la posición {indice} es {fruta}')\n",
        "```\n",
        "\n",
        "\n",
        "\n"
      ]
    },
    {
      "cell_type": "code",
      "execution_count": null,
      "metadata": {
        "colab": {
          "base_uri": "https://localhost:8080/"
        },
        "id": "oaENxJHcAtV8",
        "outputId": "8075c51f-e37f-4b93-870b-110534657b48"
      },
      "outputs": [
        {
          "name": "stdout",
          "output_type": "stream",
          "text": [
            "La fruta en la posición 0 es manzana\n",
            "La fruta en la posición 1 es banana\n",
            "La fruta en la posición 2 es kiwi\n",
            "La fruta en la posición 3 es naranja\n"
          ]
        }
      ],
      "source": [
        "frutas = ['manzana', 'banana', 'kiwi', 'naranja']\n",
        "for indice, fruta in enumerate(frutas):\n",
        "    print('La fruta en la posición ' + str(indice) + ' es ' + fruta)"
      ]
    },
    {
      "cell_type": "markdown",
      "metadata": {
        "id": "-VPChvspBuLp"
      },
      "source": [
        "### *range function*\n",
        "\n",
        "range es una función incorporada de Python que se utiliza para generar una secuencia de números enteros. La sintaxis básica de range es la siguiente:\n",
        "\n",
        "```python\n",
        "range(inicio, fin, paso)\n",
        "```\n",
        "\n",
        "Los parámetros inicio, fin y paso son opcionales, y se utilizan para especificar el inicio y el final de la secuencia, así como el incremento en cada paso. Si se omite inicio, se asume que es 0. Si se omite paso, se asume que es 1. El parámetro fin es obligatorio, y especifica el número que se utilizará como límite superior de la secuencia (pero no se incluirá en la secuencia).\n",
        "\n",
        "La función range devuelve un objeto iterable que genera la secuencia de números enteros en cada iteración. Aquí hay un ejemplo de cómo se puede utilizar range en Python:\n",
        "\n",
        "```python\n",
        "for i in range(5):\n",
        "    print(i)\n",
        "```\n",
        "\n",
        "Este código generará la secuencia de números enteros 0, 1, 2, 3, 4, e imprimirá cada número en una línea separada.\n",
        "\n",
        "También se puede utilizar la función range para generar secuencias de números enteros con un incremento personalizado. Por ejemplo, si se desea generar la secuencia 2, 5, 8, 11, 14, se puede utilizar la siguiente sintaxis:\n"
      ]
    },
    {
      "cell_type": "code",
      "execution_count": null,
      "metadata": {
        "colab": {
          "base_uri": "https://localhost:8080/"
        },
        "id": "UDWNHCe8DG6Z",
        "outputId": "31eebb93-44dd-4ee1-b77c-0b9fbc980d4c"
      },
      "outputs": [
        {
          "data": {
            "text/plain": [
              "[0, 1, 2, 3, 4, 5, 6, 7, 8, 9]"
            ]
          },
          "execution_count": 173,
          "metadata": {},
          "output_type": "execute_result"
        }
      ],
      "source": [
        "lista02 = list(range(10))\n",
        "lista02[5]"
      ]
    },
    {
      "cell_type": "code",
      "execution_count": null,
      "metadata": {
        "colab": {
          "base_uri": "https://localhost:8080/"
        },
        "id": "8FHsL10kxauZ",
        "outputId": "70abe2f1-7dec-49b0-d57a-24aba91cb06a"
      },
      "outputs": [
        {
          "data": {
            "text/plain": [
              "30"
            ]
          },
          "execution_count": 176,
          "metadata": {},
          "output_type": "execute_result"
        }
      ],
      "source": [
        "diccionario = {'nombre': 'Juan', 'edad': 30, 'profesion': 'Ingeniero'}\n",
        "diccionario[\"edad\"]"
      ]
    },
    {
      "cell_type": "markdown",
      "metadata": {
        "id": "EA2Cvv7sCd8g"
      },
      "source": [
        "### **Métodos especiales en Python**: `__getitem__`\n",
        "\n",
        "\n",
        "En Python, `__getitem__` es un método especial que se utiliza para implementar la funcionalidad de indexación en objetos. El método `__getitem__` debe tomar un argumento, que es el índice del elemento que se desea obtener, y debe devolver el valor correspondiente.\n",
        "\n",
        "Por ejemplo, se puede crear una clase MyList que imite el comportamiento de una lista de Python utilizando el método `__getitem__`. Aquí hay un ejemplo de cómo se podría implementar el método `__getitem__` en la clase MyList:\n",
        "\n",
        "\n",
        "```python\n",
        "class MyList:\n",
        "    def __init__(self, data):\n",
        "        self.data = data\n",
        "\n",
        "    def __getitem__(self, index):\n",
        "        return self.data[index]\n",
        "```\n",
        "\n",
        "En este ejemplo, la clase MyList toma una lista de datos en su constructor y la almacena en un atributo data. El método `__getitem__` devuelve el valor correspondiente en la lista data utilizando el índice proporcionado.\n",
        "\n",
        "Con esta implementación, se puede utilizar la sintaxis de indexación de Python para acceder a los elementos de la lista MyList. Por ejemplo:\n",
        "\n",
        "\n",
        "```python\n",
        "my_list = MyList([1, 2, 3, 4, 5])\n",
        "print(my_list[0])   # Imprime 1\n",
        "print(my_list[2])   # Imprime 3\n",
        "```\n",
        "\n",
        "En este ejemplo, se crea una instancia de MyList con los datos [1, 2, 3, 4, 5], y se utilizan los índices [0] y [2] para acceder a los elementos de la lista. La salida es 1 y 3, respectivamente.\n",
        "\n"
      ]
    },
    {
      "cell_type": "code",
      "execution_count": null,
      "metadata": {
        "id": "sAfDaPJkBuj9"
      },
      "outputs": [],
      "source": [
        "class MyList:\n",
        "    def __init__(self, data):\n",
        "        self.data = data\n",
        "\n",
        "    def __getitem__(self, index):\n",
        "        print(\"hello world\")"
      ]
    },
    {
      "cell_type": "code",
      "execution_count": null,
      "metadata": {
        "colab": {
          "base_uri": "https://localhost:8080/"
        },
        "id": "rUrYsN3xyEvu",
        "outputId": "5c81ecb9-1336-4066-bde7-e830cbc92185"
      },
      "outputs": [
        {
          "name": "stdout",
          "output_type": "stream",
          "text": [
            "hello world\n"
          ]
        }
      ],
      "source": [
        "my_list = MyList([1, 2, 3, 4, 5])\n",
        "my_list[10]"
      ]
    }
  ],
  "metadata": {
    "colab": {
      "provenance": []
    },
    "kernelspec": {
      "display_name": "base",
      "language": "python",
      "name": "python3"
    },
    "language_info": {
      "codemirror_mode": {
        "name": "ipython",
        "version": 3
      },
      "file_extension": ".py",
      "mimetype": "text/x-python",
      "name": "python",
      "nbconvert_exporter": "python",
      "pygments_lexer": "ipython3",
      "version": "3.10.9"
    },
    "vscode": {
      "interpreter": {
        "hash": "d0443dd356ac7fefe56aa94a9bab555975ffa9ed6f31f6a919a60974f0e00e10"
      }
    }
  },
  "nbformat": 4,
  "nbformat_minor": 0
}
